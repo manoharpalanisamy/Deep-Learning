{
  "nbformat": 4,
  "nbformat_minor": 0,
  "metadata": {
    "colab": {
      "name": "TensorflowDataTypes.ipynb",
      "provenance": []
    },
    "kernelspec": {
      "name": "python3",
      "display_name": "Python 3"
    },
    "accelerator": "GPU"
  },
  "cells": [
    {
      "cell_type": "code",
      "metadata": {
        "id": "ozuJMem2UC4k",
        "colab_type": "code",
        "colab": {}
      },
      "source": [
        "import tensorflow as tf"
      ],
      "execution_count": 0,
      "outputs": []
    },
    {
      "cell_type": "code",
      "metadata": {
        "id": "6LxYLt2dYF3D",
        "colab_type": "code",
        "colab": {
          "base_uri": "https://localhost:8080/",
          "height": 34
        },
        "outputId": "41969b97-3204-4467-e4dc-fc23cf11c77a"
      },
      "source": [
        "# create graph\n",
        "a = tf.constant(2);\n",
        "b = tf.constant(7);\n",
        "c = a+b\n",
        "# launch the graph in a session\n",
        "with tf.Session() as sess:\n",
        "    print(sess.run(c))"
      ],
      "execution_count": 7,
      "outputs": [
        {
          "output_type": "stream",
          "text": [
            "9\n"
          ],
          "name": "stdout"
        }
      ]
    },
    {
      "cell_type": "code",
      "metadata": {
        "id": "a7R_CZiqZwDn",
        "colab_type": "code",
        "colab": {
          "base_uri": "https://localhost:8080/",
          "height": 208
        },
        "outputId": "f3fdef24-8c91-40b6-8754-3cfc83ec4230"
      },
      "source": [
        "#Quick guide to run TensorBoard in Google Colab\n",
        " #   i) https://www.dlology.com/blog/quick-guide-to-run-tensorboard-in-google-colab/\n",
        "\n",
        "!wget https://bin.equinox.io/c/4VmDzA7iaHb/ngrok-stable-linux-amd64.zip"
      ],
      "execution_count": 8,
      "outputs": [
        {
          "output_type": "stream",
          "text": [
            "--2020-01-14 15:21:01--  https://bin.equinox.io/c/4VmDzA7iaHb/ngrok-stable-linux-amd64.zip\n",
            "Resolving bin.equinox.io (bin.equinox.io)... 52.4.202.19, 34.204.156.91, 34.230.145.192, ...\n",
            "Connecting to bin.equinox.io (bin.equinox.io)|52.4.202.19|:443... connected.\n",
            "HTTP request sent, awaiting response... 200 OK\n",
            "Length: 13773305 (13M) [application/octet-stream]\n",
            "Saving to: ‘ngrok-stable-linux-amd64.zip’\n",
            "\n",
            "\r          ngrok-sta   0%[                    ]       0  --.-KB/s               \r         ngrok-stab  13%[=>                  ]   1.75M  8.76MB/s               \rngrok-stable-linux- 100%[===================>]  13.13M  37.8MB/s    in 0.3s    \n",
            "\n",
            "2020-01-14 15:21:01 (37.8 MB/s) - ‘ngrok-stable-linux-amd64.zip’ saved [13773305/13773305]\n",
            "\n"
          ],
          "name": "stdout"
        }
      ]
    },
    {
      "cell_type": "code",
      "metadata": {
        "id": "WDojwVNipPqC",
        "colab_type": "code",
        "colab": {
          "base_uri": "https://localhost:8080/",
          "height": 52
        },
        "outputId": "41b9a5f0-9e02-4c3c-ad27-c0c8b0800594"
      },
      "source": [
        "!unzip ngrok-stable-linux-amd64.zip"
      ],
      "execution_count": 9,
      "outputs": [
        {
          "output_type": "stream",
          "text": [
            "Archive:  ngrok-stable-linux-amd64.zip\n",
            "  inflating: ngrok                   \n"
          ],
          "name": "stdout"
        }
      ]
    },
    {
      "cell_type": "code",
      "metadata": {
        "id": "PEcPvsWrpoHw",
        "colab_type": "code",
        "colab": {}
      },
      "source": [
        "LOG_DIR = './log'\n",
        "get_ipython().system_raw(\n",
        "    'tensorboard --logdir {} --host 0.0.0.0 --port 6006 &'\n",
        "    .format(LOG_DIR)\n",
        ")"
      ],
      "execution_count": 0,
      "outputs": []
    },
    {
      "cell_type": "code",
      "metadata": {
        "id": "4BqAn3f4qIAK",
        "colab_type": "code",
        "colab": {}
      },
      "source": [
        "get_ipython().system_raw('./ngrok http 6006 &')"
      ],
      "execution_count": 0,
      "outputs": []
    },
    {
      "cell_type": "code",
      "metadata": {
        "id": "V6oVVq_2qNqr",
        "colab_type": "code",
        "colab": {
          "base_uri": "https://localhost:8080/",
          "height": 34
        },
        "outputId": "20dc9c3d-96b9-4126-d478-f4a86af9031f"
      },
      "source": [
        "! curl -s http://localhost:4040/api/tunnels | python3 -c \\\n",
        "    \"import sys, json; print(json.load(sys.stdin)['tunnels'][0]['public_url'])\""
      ],
      "execution_count": 12,
      "outputs": [
        {
          "output_type": "stream",
          "text": [
            "http://18d19cc0.ngrok.io\n"
          ],
          "name": "stdout"
        }
      ]
    },
    {
      "cell_type": "code",
      "metadata": {
        "id": "anhfmGOKql6K",
        "colab_type": "code",
        "colab": {
          "base_uri": "https://localhost:8080/",
          "height": 34
        },
        "outputId": "50c64947-9f4a-4b79-ee58-6e6be3fbca1e"
      },
      "source": [
        "import tensorflow as tf\n",
        "tf.reset_default_graph()   # To clear the defined variables and operations of the previous cell\n",
        "\n",
        "# create graph\n",
        "a = tf.constant(2)\n",
        "b = tf.constant(3)\n",
        "c = tf.add(a, b)\n",
        "\n",
        "# creating the writer out of the session\n",
        "# writer = tf.summary.FileWriter('./graphs', tf.get_default_graph())\n",
        "\n",
        "# launch the graph in a session\n",
        "with tf.Session() as sess:\n",
        "    # or creating the writer inside the session\n",
        "    writer = tf.summary.FileWriter('./log', sess.graph)\n",
        "    print(sess.run(c))"
      ],
      "execution_count": 13,
      "outputs": [
        {
          "output_type": "stream",
          "text": [
            "5\n"
          ],
          "name": "stdout"
        }
      ]
    },
    {
      "cell_type": "code",
      "metadata": {
        "id": "IaX2H7tHq3Z9",
        "colab_type": "code",
        "colab": {
          "base_uri": "https://localhost:8080/",
          "height": 34
        },
        "outputId": "61c2905b-d850-4f93-c157-40fd1ec448d5"
      },
      "source": [
        "import tensorflow as tf\n",
        "tf.reset_default_graph()   # To clear the defined variables and operations of the previous cell\n",
        "\n",
        "# create graph\n",
        "a = tf.constant(2, name=\"a\")\n",
        "b = tf.constant(3, name=\"b\")\n",
        "c = tf.add(a, b, name=\"addition\")\n",
        "\n",
        "# creating the writer out of the session\n",
        "# writer = tf.summary.FileWriter('./graphs', tf.get_default_graph())\n",
        "\n",
        "# launch the graph in a session\n",
        "with tf.Session() as sess:\n",
        "    # or creating the writer inside the session\n",
        "    writer = tf.summary.FileWriter('./log', sess.graph)\n",
        "    print(sess.run(c))"
      ],
      "execution_count": 14,
      "outputs": [
        {
          "output_type": "stream",
          "text": [
            "5\n"
          ],
          "name": "stdout"
        }
      ]
    }
  ]
}