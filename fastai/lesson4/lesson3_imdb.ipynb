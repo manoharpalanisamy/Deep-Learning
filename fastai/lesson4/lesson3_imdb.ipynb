{
  "nbformat": 4,
  "nbformat_minor": 0,
  "metadata": {
    "kernelspec": {
      "name": "python3",
      "display_name": "Python 3"
    },
    "colab": {
      "name": "lesson3-imdb.ipynb",
      "provenance": []
    },
    "accelerator": "GPU"
  },
  "cells": [
    {
      "cell_type": "markdown",
      "metadata": {
        "id": "nRMCplob5-G2",
        "colab_type": "text"
      },
      "source": [
        "# IMDB"
      ]
    },
    {
      "cell_type": "code",
      "metadata": {
        "id": "Jz1zrxIm6GPv",
        "colab_type": "code",
        "colab": {
          "base_uri": "https://localhost:8080/",
          "height": 52
        },
        "outputId": "7f1f954a-521e-4716-d892-c5271a51d699"
      },
      "source": [
        " !curl -s https://course.fast.ai/setup/colab | bash"
      ],
      "execution_count": 1,
      "outputs": [
        {
          "output_type": "stream",
          "text": [
            "Updating fastai...\n",
            "Done.\n"
          ],
          "name": "stdout"
        }
      ]
    },
    {
      "cell_type": "code",
      "metadata": {
        "id": "9PVy_Vqr5-HO",
        "colab_type": "code",
        "colab": {}
      },
      "source": [
        "%reload_ext autoreload\n",
        "%autoreload 2\n",
        "%matplotlib inline"
      ],
      "execution_count": 0,
      "outputs": []
    },
    {
      "cell_type": "code",
      "metadata": {
        "id": "B6hQeaIM5-Hp",
        "colab_type": "code",
        "colab": {}
      },
      "source": [
        "from fastai.text import *"
      ],
      "execution_count": 0,
      "outputs": []
    },
    {
      "cell_type": "markdown",
      "metadata": {
        "id": "fQn3nh0H5-H8",
        "colab_type": "text"
      },
      "source": [
        "## Preparing the data"
      ]
    },
    {
      "cell_type": "markdown",
      "metadata": {
        "id": "0R-GRM_J5-IB",
        "colab_type": "text"
      },
      "source": [
        "First let's download the dataset we are going to study. The [dataset](http://ai.stanford.edu/~amaas/data/sentiment/) has been curated by Andrew Maas et al. and contains a total of 100,000 reviews on IMDB. 25,000 of them are labelled as positive and negative for training, another 25,000 are labelled for testing (in both cases they are highly polarized). The remaning 50,000 is an additional unlabelled data (but we will find a use for it nonetheless).\n",
        "\n",
        "We'll begin with a sample we've prepared for you, so that things run quickly before going over the full dataset."
      ]
    },
    {
      "cell_type": "code",
      "metadata": {
        "id": "TDpKziF45-IG",
        "colab_type": "code",
        "colab": {
          "base_uri": "https://localhost:8080/",
          "height": 52
        },
        "outputId": "863ff5a0-6ccf-4909-a1d0-9fa987eb1581"
      },
      "source": [
        "path = untar_data(URLs.IMDB_SAMPLE)\n",
        "path.ls()"
      ],
      "execution_count": 4,
      "outputs": [
        {
          "output_type": "execute_result",
          "data": {
            "text/plain": [
              "[PosixPath('/content/data/imdb_sample/texts.csv'),\n",
              " PosixPath('/content/data/imdb_sample/data_save.pkl')]"
            ]
          },
          "metadata": {
            "tags": []
          },
          "execution_count": 4
        }
      ]
    },
    {
      "cell_type": "markdown",
      "metadata": {
        "id": "8mmGwAcS5-IW",
        "colab_type": "text"
      },
      "source": [
        "It only contains one csv file, let's have a look at it."
      ]
    },
    {
      "cell_type": "code",
      "metadata": {
        "id": "p3HeVjtW5-Ib",
        "colab_type": "code",
        "colab": {
          "base_uri": "https://localhost:8080/",
          "height": 206
        },
        "outputId": "6ef33ba4-6019-4b66-de3c-69e00a71be46"
      },
      "source": [
        "df = pd.read_csv(path/'texts.csv')\n",
        "df.head()"
      ],
      "execution_count": 5,
      "outputs": [
        {
          "output_type": "execute_result",
          "data": {
            "text/html": [
              "<div>\n",
              "<style scoped>\n",
              "    .dataframe tbody tr th:only-of-type {\n",
              "        vertical-align: middle;\n",
              "    }\n",
              "\n",
              "    .dataframe tbody tr th {\n",
              "        vertical-align: top;\n",
              "    }\n",
              "\n",
              "    .dataframe thead th {\n",
              "        text-align: right;\n",
              "    }\n",
              "</style>\n",
              "<table border=\"1\" class=\"dataframe\">\n",
              "  <thead>\n",
              "    <tr style=\"text-align: right;\">\n",
              "      <th></th>\n",
              "      <th>label</th>\n",
              "      <th>text</th>\n",
              "      <th>is_valid</th>\n",
              "    </tr>\n",
              "  </thead>\n",
              "  <tbody>\n",
              "    <tr>\n",
              "      <th>0</th>\n",
              "      <td>negative</td>\n",
              "      <td>Un-bleeping-believable! Meg Ryan doesn't even ...</td>\n",
              "      <td>False</td>\n",
              "    </tr>\n",
              "    <tr>\n",
              "      <th>1</th>\n",
              "      <td>positive</td>\n",
              "      <td>This is a extremely well-made film. The acting...</td>\n",
              "      <td>False</td>\n",
              "    </tr>\n",
              "    <tr>\n",
              "      <th>2</th>\n",
              "      <td>negative</td>\n",
              "      <td>Every once in a long while a movie will come a...</td>\n",
              "      <td>False</td>\n",
              "    </tr>\n",
              "    <tr>\n",
              "      <th>3</th>\n",
              "      <td>positive</td>\n",
              "      <td>Name just says it all. I watched this movie wi...</td>\n",
              "      <td>False</td>\n",
              "    </tr>\n",
              "    <tr>\n",
              "      <th>4</th>\n",
              "      <td>negative</td>\n",
              "      <td>This movie succeeds at being one of the most u...</td>\n",
              "      <td>False</td>\n",
              "    </tr>\n",
              "  </tbody>\n",
              "</table>\n",
              "</div>"
            ],
            "text/plain": [
              "      label                                               text  is_valid\n",
              "0  negative  Un-bleeping-believable! Meg Ryan doesn't even ...     False\n",
              "1  positive  This is a extremely well-made film. The acting...     False\n",
              "2  negative  Every once in a long while a movie will come a...     False\n",
              "3  positive  Name just says it all. I watched this movie wi...     False\n",
              "4  negative  This movie succeeds at being one of the most u...     False"
            ]
          },
          "metadata": {
            "tags": []
          },
          "execution_count": 5
        }
      ]
    },
    {
      "cell_type": "code",
      "metadata": {
        "id": "N_MIpOpG5-Iu",
        "colab_type": "code",
        "colab": {
          "base_uri": "https://localhost:8080/",
          "height": 54
        },
        "outputId": "837f56ba-a627-4bc8-af80-32f8fd6ee67a"
      },
      "source": [
        "df['text'][1]"
      ],
      "execution_count": 6,
      "outputs": [
        {
          "output_type": "execute_result",
          "data": {
            "text/plain": [
              "'This is a extremely well-made film. The acting, script and camera-work are all first-rate. The music is good, too, though it is mostly early in the film, when things are still relatively cheery. There are no really superstars in the cast, though several faces will be familiar. The entire cast does an excellent job with the script.<br /><br />But it is hard to watch, because there is no good end to a situation like the one presented. It is now fashionable to blame the British for setting Hindus and Muslims against each other, and then cruelly separating them into two countries. There is some merit in this view, but it\\'s also true that no one forced Hindus and Muslims in the region to mistreat each other as they did around the time of partition. It seems more likely that the British simply saw the tensions between the religions and were clever enough to exploit them to their own ends.<br /><br />The result is that there is much cruelty and inhumanity in the situation and this is very unpleasant to remember and to see on the screen. But it is never painted as a black-and-white case. There is baseness and nobility on both sides, and also the hope for change in the younger generation.<br /><br />There is redemption of a sort, in the end, when Puro has to make a hard choice between a man who has ruined her life, but also truly loved her, and her family which has disowned her, then later come looking for her. But by that point, she has no option that is without great pain for her.<br /><br />This film carries the message that both Muslims and Hindus have their grave faults, and also that both can be dignified and caring people. The reality of partition makes that realisation all the more wrenching, since there can never be real reconciliation across the India/Pakistan border. In that sense, it is similar to \"Mr & Mrs Iyer\".<br /><br />In the end, we were glad to have seen the film, even though the resolution was heartbreaking. If the UK and US could deal with their own histories of racism with this kind of frankness, they would certainly be better off.'"
            ]
          },
          "metadata": {
            "tags": []
          },
          "execution_count": 6
        }
      ]
    },
    {
      "cell_type": "markdown",
      "metadata": {
        "id": "v6Mt_JCY5-I5",
        "colab_type": "text"
      },
      "source": [
        "It contains one line per review, with the label ('negative' or 'positive'), the text and a flag to determine if it should be part of the validation set or the training set. If we ignore this flag, we can create a DataBunch containing this data in one line of code:"
      ]
    },
    {
      "cell_type": "code",
      "metadata": {
        "id": "WK1Qs6Fp5-I9",
        "colab_type": "code",
        "colab": {
          "base_uri": "https://localhost:8080/",
          "height": 17
        },
        "outputId": "e654f3b7-a111-45b7-e99f-1a122f038c31"
      },
      "source": [
        "data_lm = TextDataBunch.from_csv(path, 'texts.csv')"
      ],
      "execution_count": 7,
      "outputs": [
        {
          "output_type": "display_data",
          "data": {
            "text/html": [
              ""
            ],
            "text/plain": [
              "<IPython.core.display.HTML object>"
            ]
          },
          "metadata": {
            "tags": []
          }
        },
        {
          "output_type": "display_data",
          "data": {
            "text/html": [
              ""
            ],
            "text/plain": [
              "<IPython.core.display.HTML object>"
            ]
          },
          "metadata": {
            "tags": []
          }
        }
      ]
    },
    {
      "cell_type": "markdown",
      "metadata": {
        "id": "AOu1W-_V5-JI",
        "colab_type": "text"
      },
      "source": [
        "By executing this line a process was launched that took a bit of time. Let's dig a bit into it. Images could be fed (almost) directly into a model because they're just a big array of pixel values that are floats between 0 and 1. A text is composed of words, and we can't apply mathematical functions to them directly. We first have to convert them to numbers. This is done in two differents steps: tokenization and numericalization. A `TextDataBunch` does all of that behind the scenes for you.\n",
        "\n",
        "Before we delve into the explanations, let's take the time to save the things that were calculated."
      ]
    },
    {
      "cell_type": "code",
      "metadata": {
        "id": "-qHGaS4M5-JN",
        "colab_type": "code",
        "colab": {}
      },
      "source": [
        "data_lm.save()"
      ],
      "execution_count": 0,
      "outputs": []
    },
    {
      "cell_type": "markdown",
      "metadata": {
        "id": "HvpCg1yF5-Ja",
        "colab_type": "text"
      },
      "source": [
        "Next time we launch this notebook, we can skip the cell above that took a bit of time (and that will take a lot more when you get to the full dataset) and load those results like this:"
      ]
    },
    {
      "cell_type": "code",
      "metadata": {
        "id": "Hs4h2PLI5-Jd",
        "colab_type": "code",
        "colab": {}
      },
      "source": [
        "data = load_data(path)"
      ],
      "execution_count": 0,
      "outputs": []
    },
    {
      "cell_type": "markdown",
      "metadata": {
        "id": "U0OvmZFr5-Jo",
        "colab_type": "text"
      },
      "source": [
        "### Tokenization"
      ]
    },
    {
      "cell_type": "markdown",
      "metadata": {
        "id": "PearV1o75-Js",
        "colab_type": "text"
      },
      "source": [
        "The first step of processing we make the texts go through is to split the raw sentences into words, or more exactly tokens. The easiest way to do this would be to split the string on spaces, but we can be smarter:\n",
        "\n",
        "- we need to take care of punctuation\n",
        "- some words are contractions of two different words, like isn't or don't\n",
        "- we may need to clean some parts of our texts, if there's HTML code for instance\n",
        "\n",
        "To see what the tokenizer had done behind the scenes, let's have a look at a few texts in a batch."
      ]
    },
    {
      "cell_type": "code",
      "metadata": {
        "id": "qIAU8UW55-Jw",
        "colab_type": "code",
        "colab": {
          "base_uri": "https://localhost:8080/",
          "height": 397
        },
        "outputId": "0cec1998-4fba-49f7-fa0d-3cb7f20b6576"
      },
      "source": [
        "data = TextClasDataBunch.from_csv(path, 'texts.csv')\n",
        "data.show_batch()"
      ],
      "execution_count": 10,
      "outputs": [
        {
          "output_type": "display_data",
          "data": {
            "text/html": [
              ""
            ],
            "text/plain": [
              "<IPython.core.display.HTML object>"
            ]
          },
          "metadata": {
            "tags": []
          }
        },
        {
          "output_type": "display_data",
          "data": {
            "text/html": [
              ""
            ],
            "text/plain": [
              "<IPython.core.display.HTML object>"
            ]
          },
          "metadata": {
            "tags": []
          }
        },
        {
          "output_type": "display_data",
          "data": {
            "text/html": [
              "<table border=\"1\" class=\"dataframe\">\n",
              "  <thead>\n",
              "    <tr style=\"text-align: right;\">\n",
              "      <th>text</th>\n",
              "      <th>target</th>\n",
              "    </tr>\n",
              "  </thead>\n",
              "  <tbody>\n",
              "    <tr>\n",
              "      <td>xxbos xxmaj raising xxmaj victor xxmaj vargas : a xxmaj review \\n \\n  xxmaj you know , xxmaj raising xxmaj victor xxmaj vargas is like sticking your hands into a big , steaming bowl of xxunk . xxmaj it 's warm and gooey , but you 're not sure if it feels right . xxmaj try as i might , no matter how warm and gooey xxmaj raising xxmaj</td>\n",
              "      <td>negative</td>\n",
              "    </tr>\n",
              "    <tr>\n",
              "      <td>xxbos xxup the xxup shop xxup around xxup the xxup corner is one of the sweetest and most feel - good romantic comedies ever made . xxmaj there 's just no getting around that , and it 's hard to actually put one 's feeling for this film into words . xxmaj it 's not one of those films that tries too hard , nor does it come up with</td>\n",
              "      <td>positive</td>\n",
              "    </tr>\n",
              "    <tr>\n",
              "      <td>xxbos xxmaj now that xxmaj che(2008 ) has finished its relatively short xxmaj australian cinema run ( extremely limited xxunk screen in xxmaj xxunk , after xxunk ) , i can xxunk join both xxunk of \" xxmaj at xxmaj the xxmaj movies \" in taking xxmaj steven xxmaj soderbergh to task . \\n \\n  xxmaj it 's usually satisfying to watch a film director change his style /</td>\n",
              "      <td>negative</td>\n",
              "    </tr>\n",
              "    <tr>\n",
              "      <td>xxbos xxmaj this film sat on my xxmaj xxunk for weeks before i watched it . i dreaded a self - indulgent xxunk flick about relationships gone bad . i was wrong ; this was an xxunk xxunk into the screwed - up xxunk of xxmaj new xxmaj yorkers . \\n \\n  xxmaj the format is the same as xxmaj max xxmaj xxunk ' \" xxmaj la xxmaj ronde</td>\n",
              "      <td>positive</td>\n",
              "    </tr>\n",
              "    <tr>\n",
              "      <td>xxbos xxmaj many neglect that this is n't just a classic due to the fact that it 's the first xxup 3d game , or even the first xxunk - up . xxmaj it 's also one of the first stealth games , one of the xxunk definitely the first ) truly claustrophobic games , and just a pretty well - xxunk gaming experience in general . xxmaj with graphics</td>\n",
              "      <td>positive</td>\n",
              "    </tr>\n",
              "  </tbody>\n",
              "</table>"
            ],
            "text/plain": [
              "<IPython.core.display.HTML object>"
            ]
          },
          "metadata": {
            "tags": []
          }
        }
      ]
    },
    {
      "cell_type": "markdown",
      "metadata": {
        "id": "pwz--R3v5-J8",
        "colab_type": "text"
      },
      "source": [
        "The texts are truncated at 100 tokens for more readability. We can see that it did more than just split on space and punctuation symbols: \n",
        "- the \"'s\" are grouped together in one token\n",
        "- the contractions are separated like this: \"did\", \"n't\"\n",
        "- content has been cleaned for any HTML symbol and lower cased\n",
        "- there are several special tokens (all those that begin by xx), to replace unknown tokens (see below) or to introduce different text fields (here we only have one)."
      ]
    },
    {
      "cell_type": "markdown",
      "metadata": {
        "id": "IGAJmLPQ5-KA",
        "colab_type": "text"
      },
      "source": [
        "### Numericalization"
      ]
    },
    {
      "cell_type": "markdown",
      "metadata": {
        "id": "AkukN2_X5-KD",
        "colab_type": "text"
      },
      "source": [
        "Once we have extracted tokens from our texts, we convert to integers by creating a list of all the words used. We only keep the ones that appear at least twice with a maximum vocabulary size of 60,000 (by default) and replace the ones that don't make the cut by the unknown token `UNK`.\n",
        "\n",
        "The correspondance from ids to tokens is stored in the `vocab` attribute of our datasets, in a dictionary called `itos` (for int to string)."
      ]
    },
    {
      "cell_type": "code",
      "metadata": {
        "id": "OXojmpE75-KJ",
        "colab_type": "code",
        "colab": {
          "base_uri": "https://localhost:8080/",
          "height": 191
        },
        "outputId": "e62cb523-c645-4412-9d7e-bce0cf5b8468"
      },
      "source": [
        "data.vocab.itos[:10]"
      ],
      "execution_count": 11,
      "outputs": [
        {
          "output_type": "execute_result",
          "data": {
            "text/plain": [
              "['xxunk',\n",
              " 'xxpad',\n",
              " 'xxbos',\n",
              " 'xxeos',\n",
              " 'xxfld',\n",
              " 'xxmaj',\n",
              " 'xxup',\n",
              " 'xxrep',\n",
              " 'xxwrep',\n",
              " 'the']"
            ]
          },
          "metadata": {
            "tags": []
          },
          "execution_count": 11
        }
      ]
    },
    {
      "cell_type": "markdown",
      "metadata": {
        "id": "uHOCWVCq5-KS",
        "colab_type": "text"
      },
      "source": [
        "And if we look at what a what's in our datasets, we'll see the tokenized text as a representation:"
      ]
    },
    {
      "cell_type": "code",
      "metadata": {
        "id": "4v5I81uP5-KW",
        "colab_type": "code",
        "colab": {
          "base_uri": "https://localhost:8080/",
          "height": 54
        },
        "outputId": "6fc90ea7-9965-463e-ccbe-135dd0d26de9"
      },
      "source": [
        "data.train_ds[0][0]"
      ],
      "execution_count": 12,
      "outputs": [
        {
          "output_type": "execute_result",
          "data": {
            "text/plain": [
              "Text xxbos xxmaj like xxmaj tarzan the xxmaj ape xxmaj man ( xxunk ) , only more so . xxmaj there 's more of everything , more animals , more varied xxmaj african tribes , and scenes in which the thought must be , if this was good with three or four lions , forty would be better . xxmaj tarzan xxunk with xxunk the crocodile machine spins in the water like a rolling pin , around and around , jaws xxunk . xxmaj tarzan can kill it with his xxunk knife if the xxunk xxunk would hold still . xxmaj tarzan kills lions and xxunk and a xxunk xxunk number of animals . xxmaj his friends are real xxunk , people wearing larger ape costumes , and elephants . xxmaj in fact , they use xxmaj indian xxunk more friendly and xxunk than xxmaj african xxunk costume ears attached to their heads . xxmaj the human story : another white man , worse than the rest , shows up to join with xxmaj holt to go after the ivory from the elephant graveyard . xxmaj tarzan wo n't show them the way , so the bad guy shoots an elephant so they can follow it to its deathbed . xxmaj tarzan xxunk , and the bad guy shoots xxunk , of course , he survives and returns to save xxmaj jane . xxmaj everybody else dies , xxmaj holt and the bad guy and every single one of their \" boys . \" xxmaj people are xxunk , especially xxmaj africans , and there does n't seem to be much distinction between the black fellows who die because they work for the white men travelling through xxunk country and those black fellows who kill them . xxmaj this must be the last xxmaj tarzan movie before the xxmaj xxunk xxmaj code made xxmaj jane wear more clothes . xxmaj there are a number of underwater scenes in which xxmaj jane xxunk nude , and though the light is flickering the movement and the glimpses are very appealing . xxmaj apparently one of xxmaj weismuller 's friends from the xxmaj xxunk swim team did the nude scenes , and not xxmaj maureen xxunk . xxmaj she , however , moves through the movie wearing the same sort of xxunk xxmaj weismuller wears ( plus a bikini top ) , showing a splendid glimpse of xxunk and hip . xxmaj they still do n't need to talk a lot . xxmaj they sleep together and hang out with cool animals and stay away from cities . xxmaj no wonder they 're happy ."
            ]
          },
          "metadata": {
            "tags": []
          },
          "execution_count": 12
        }
      ]
    },
    {
      "cell_type": "markdown",
      "metadata": {
        "id": "W21kQdjH5-Kg",
        "colab_type": "text"
      },
      "source": [
        "But the underlying data is all numbers"
      ]
    },
    {
      "cell_type": "code",
      "metadata": {
        "id": "MoWX3srE5-Kj",
        "colab_type": "code",
        "colab": {
          "base_uri": "https://localhost:8080/",
          "height": 34
        },
        "outputId": "44409db6-1b70-4d60-c36c-f84826152677"
      },
      "source": [
        "data.train_ds[0][0].data[:10]"
      ],
      "execution_count": 13,
      "outputs": [
        {
          "output_type": "execute_result",
          "data": {
            "text/plain": [
              "array([   2,    5,   49,    5, 1683,    9,    5, 4623,    5,  131])"
            ]
          },
          "metadata": {
            "tags": []
          },
          "execution_count": 13
        }
      ]
    },
    {
      "cell_type": "markdown",
      "metadata": {
        "id": "yzzQqDaC5-Kt",
        "colab_type": "text"
      },
      "source": [
        "### With the data block API"
      ]
    },
    {
      "cell_type": "markdown",
      "metadata": {
        "id": "TNn2t6dC5-Kw",
        "colab_type": "text"
      },
      "source": [
        "We can use the data block API with NLP and have a lot more flexibility than what the default factory methods offer. In the previous example for instance, the data was randomly split between train and validation instead of reading the third column of the csv.\n",
        "\n",
        "With the data block API though, we have to manually call the tokenize and numericalize steps. This allows more flexibility, and if you're not using the defaults from fastai, the various arguments to pass will appear in the step they're revelant, so it'll be more readable."
      ]
    },
    {
      "cell_type": "code",
      "metadata": {
        "id": "lI7ShFR_5-Kz",
        "colab_type": "code",
        "colab": {
          "base_uri": "https://localhost:8080/",
          "height": 17
        },
        "outputId": "31c320a2-8c45-473e-eb1c-78f249b6e3fd"
      },
      "source": [
        "data = (TextList.from_csv(path, 'texts.csv', cols='text')\n",
        "                .split_from_df(col=2)\n",
        "                .label_from_df(cols=0)\n",
        "                .databunch())"
      ],
      "execution_count": 14,
      "outputs": [
        {
          "output_type": "display_data",
          "data": {
            "text/html": [
              ""
            ],
            "text/plain": [
              "<IPython.core.display.HTML object>"
            ]
          },
          "metadata": {
            "tags": []
          }
        },
        {
          "output_type": "display_data",
          "data": {
            "text/html": [
              ""
            ],
            "text/plain": [
              "<IPython.core.display.HTML object>"
            ]
          },
          "metadata": {
            "tags": []
          }
        }
      ]
    },
    {
      "cell_type": "markdown",
      "metadata": {
        "id": "5pG-6qgW5-K5",
        "colab_type": "text"
      },
      "source": [
        "## Language model"
      ]
    },
    {
      "cell_type": "markdown",
      "metadata": {
        "id": "Dg3g7jom5-K8",
        "colab_type": "text"
      },
      "source": [
        "Note that language models can use a lot of GPU, so you may need to decrease batchsize here."
      ]
    },
    {
      "cell_type": "code",
      "metadata": {
        "id": "FVNQrs3t5-LA",
        "colab_type": "code",
        "colab": {}
      },
      "source": [
        "bs=48"
      ],
      "execution_count": 0,
      "outputs": []
    },
    {
      "cell_type": "markdown",
      "metadata": {
        "id": "uTEx7EJ15-LJ",
        "colab_type": "text"
      },
      "source": [
        "Now let's grab the full dataset for what follows."
      ]
    },
    {
      "cell_type": "code",
      "metadata": {
        "id": "oSoK6XSJ5-LN",
        "colab_type": "code",
        "colab": {
          "base_uri": "https://localhost:8080/",
          "height": 173
        },
        "outputId": "8a287e87-d9e4-47eb-cab6-a97f163773b1"
      },
      "source": [
        "path = untar_data(URLs.IMDB)\n",
        "path.ls()"
      ],
      "execution_count": 16,
      "outputs": [
        {
          "output_type": "execute_result",
          "data": {
            "text/plain": [
              "[PosixPath('/content/data/imdb/tmp_lm'),\n",
              " PosixPath('/content/data/imdb/tmp_clas'),\n",
              " PosixPath('/content/data/imdb/unsup'),\n",
              " PosixPath('/content/data/imdb/train'),\n",
              " PosixPath('/content/data/imdb/imdb.vocab'),\n",
              " PosixPath('/content/data/imdb/data_lm.pkl'),\n",
              " PosixPath('/content/data/imdb/models'),\n",
              " PosixPath('/content/data/imdb/README'),\n",
              " PosixPath('/content/data/imdb/test')]"
            ]
          },
          "metadata": {
            "tags": []
          },
          "execution_count": 16
        }
      ]
    },
    {
      "cell_type": "code",
      "metadata": {
        "id": "1DWsdZzM5-LW",
        "colab_type": "code",
        "colab": {
          "base_uri": "https://localhost:8080/",
          "height": 86
        },
        "outputId": "3c237704-7bf4-4260-c1dc-0997970f4a80"
      },
      "source": [
        "(path/'train').ls()"
      ],
      "execution_count": 17,
      "outputs": [
        {
          "output_type": "execute_result",
          "data": {
            "text/plain": [
              "[PosixPath('/content/data/imdb/train/labeledBow.feat'),\n",
              " PosixPath('/content/data/imdb/train/neg'),\n",
              " PosixPath('/content/data/imdb/train/unsupBow.feat'),\n",
              " PosixPath('/content/data/imdb/train/pos')]"
            ]
          },
          "metadata": {
            "tags": []
          },
          "execution_count": 17
        }
      ]
    },
    {
      "cell_type": "markdown",
      "metadata": {
        "id": "JmpHxq3T5-Le",
        "colab_type": "text"
      },
      "source": [
        "The reviews are in a training and test set following an imagenet structure. The only difference is that there is an `unsup` folder on top of `train` and `test` that contains the unlabelled data.\n",
        "\n",
        "We're not going to train a model that classifies the reviews from scratch. Like in computer vision, we'll use a model pretrained on a bigger dataset (a cleaned subset of wikipedia called [wikitext-103](https://einstein.ai/research/blog/the-wikitext-long-term-dependency-language-modeling-dataset)). That model has been trained to guess what the next word is, its input being all the previous words. It has a recurrent structure and a hidden state that is updated each time it sees a new word. This hidden state thus contains information about the sentence up to that point.\n",
        "\n",
        "We are going to use that 'knowledge' of the English language to build our classifier, but first, like for computer vision, we need to fine-tune the pretrained model to our particular dataset. Because the English of the reviews left by people on IMDB isn't the same as the English of wikipedia, we'll need to adjust the parameters of our model by a little bit. Plus there might be some words that would be extremely common in the reviews dataset but would be barely present in wikipedia, and therefore might not be part of the vocabulary the model was trained on."
      ]
    },
    {
      "cell_type": "markdown",
      "metadata": {
        "id": "M9UN_CM05-Lg",
        "colab_type": "text"
      },
      "source": [
        "This is where the unlabelled data is going to be useful to us, as we can use it to fine-tune our model. Let's create our data object with the data block API (next line takes a few minutes)."
      ]
    },
    {
      "cell_type": "code",
      "metadata": {
        "id": "lt6nMfo15-Lm",
        "colab_type": "code",
        "colab": {
          "base_uri": "https://localhost:8080/",
          "height": 17
        },
        "outputId": "5321cda2-0c03-4b4f-e425-7e834a098141"
      },
      "source": [
        "data_lm = (TextList.from_folder(path)\n",
        "           #Inputs: all the text files in path\n",
        "            .filter_by_folder(include=['train', 'test', 'unsup']) \n",
        "           #We may have other temp folders that contain text files so we only keep what's in train and test\n",
        "            .split_by_rand_pct(0.1)\n",
        "           #We randomly split and keep 10% (10,000 reviews) for validation\n",
        "            .label_for_lm()           \n",
        "           #We want to do a language model so we label accordingly\n",
        "            .databunch(bs=bs))\n",
        "data_lm.save('data_lm.pkl')"
      ],
      "execution_count": 18,
      "outputs": [
        {
          "output_type": "display_data",
          "data": {
            "text/html": [
              ""
            ],
            "text/plain": [
              "<IPython.core.display.HTML object>"
            ]
          },
          "metadata": {
            "tags": []
          }
        },
        {
          "output_type": "display_data",
          "data": {
            "text/html": [
              ""
            ],
            "text/plain": [
              "<IPython.core.display.HTML object>"
            ]
          },
          "metadata": {
            "tags": []
          }
        }
      ]
    },
    {
      "cell_type": "markdown",
      "metadata": {
        "id": "gBeyvq4b5-Ly",
        "colab_type": "text"
      },
      "source": [
        "We have to use a special kind of `TextDataBunch` for the language model, that ignores the labels (that's why we put 0 everywhere), will shuffle the texts at each epoch before concatenating them all together (only for training, we don't shuffle for the validation set) and will send batches that read that text in order with targets that are the next word in the sentence.\n",
        "\n",
        "The line before being a bit long, we want to load quickly the final ids by using the following cell."
      ]
    },
    {
      "cell_type": "code",
      "metadata": {
        "id": "_PTomgK75-L1",
        "colab_type": "code",
        "colab": {}
      },
      "source": [
        "data_lm = load_data(path, 'data_lm.pkl', bs=bs)"
      ],
      "execution_count": 0,
      "outputs": []
    },
    {
      "cell_type": "code",
      "metadata": {
        "id": "RW42YyO35-L9",
        "colab_type": "code",
        "colab": {
          "base_uri": "https://localhost:8080/",
          "height": 397
        },
        "outputId": "9266439d-989f-4d1c-f2bf-c8c4595fba22"
      },
      "source": [
        "data_lm.show_batch()"
      ],
      "execution_count": 21,
      "outputs": [
        {
          "output_type": "display_data",
          "data": {
            "text/html": [
              "<table border=\"1\" class=\"dataframe\">\n",
              "  <thead>\n",
              "    <tr style=\"text-align: right;\">\n",
              "      <th>idx</th>\n",
              "      <th>text</th>\n",
              "    </tr>\n",
              "  </thead>\n",
              "  <tbody>\n",
              "    <tr>\n",
              "      <td>0</td>\n",
              "      <td>the xxmaj new xxmaj york xxmaj times or become mainstream film critics and i know that imdb reviewers have no reason to distort the truth or are getting paid off . xxmaj sometimes the only redeeming social aspect of some of these films are the comments made by the xxmaj silent xxmaj majority ( was that xxmaj jerry xxmaj falwell or xxmaj spiro xxmaj agnew who coined that term ?</td>\n",
              "    </tr>\n",
              "    <tr>\n",
              "      <td>1</td>\n",
              "      <td>of the xxmaj land xxmaj before xxmaj time xxup iii . xxmaj the xxmaj xxunk of xxmaj donnie where they return to were xxmaj donnie came from and then found out his parents had died from xxmaj poachers = [ . xxmaj but there was a scene in it where a xxmaj forrest fire started and it reminded me of the scene in xxmaj the xxmaj land xxmaj before xxmaj</td>\n",
              "    </tr>\n",
              "    <tr>\n",
              "      <td>2</td>\n",
              "      <td>makes a comment about the latter 's genetics and background . xxmaj he comes up with a scheme to give himself an alibi during his stage performance , using a trick or two to convince people he is far from xxmaj persoff 's office . xxmaj but he kills xxmaj persoff ( who was typing a letter to the xxup fbi regarding xxmaj cassidy 's past at the time )</td>\n",
              "    </tr>\n",
              "    <tr>\n",
              "      <td>3</td>\n",
              "      <td>really is -- stereotyping blacks and whites while trying to prove how \" with it \" an old , rich , white guy from xxmaj beverly xxmaj hills can really be . \\n \\n  xxbos xxmaj this disgraceful presentation deserves a score far lower than the allowed minimum of 1 out of 10 . xxmaj filmed on what seems to be a cut - price video camera , it</td>\n",
              "    </tr>\n",
              "    <tr>\n",
              "      <td>4</td>\n",
              "      <td>\\n \\n  xxmaj in doing that , having xxmaj dr. xxmaj craig murdered , xxmaj gatanebo as xxmaj dr. xxmaj xxunk can now be as close as he 'll ever get to his old flame xxmaj kenya or now xxmaj sylvia xxmaj dr. xxmaj kessling 's secretary . xxmaj gatanebo has no trouble speaking the xxmaj english language xxmaj in that over 300 years of being displayed in museum</td>\n",
              "    </tr>\n",
              "  </tbody>\n",
              "</table>"
            ],
            "text/plain": [
              "<IPython.core.display.HTML object>"
            ]
          },
          "metadata": {
            "tags": []
          }
        }
      ]
    },
    {
      "cell_type": "markdown",
      "metadata": {
        "id": "OMattuCR5-ME",
        "colab_type": "text"
      },
      "source": [
        "We can then put this in a learner object very easily with a model loaded with the pretrained weights. They'll be downloaded the first time you'll execute the following line and stored in `~/.fastai/models/` (or elsewhere if you specified different paths in your config file)."
      ]
    },
    {
      "cell_type": "code",
      "metadata": {
        "id": "FFTnypi85-MG",
        "colab_type": "code",
        "colab": {}
      },
      "source": [
        "learn = language_model_learner(data_lm, AWD_LSTM, drop_mult=0.3)"
      ],
      "execution_count": 0,
      "outputs": []
    },
    {
      "cell_type": "code",
      "metadata": {
        "id": "-jCDQPZA5-MN",
        "colab_type": "code",
        "colab": {},
        "outputId": "66f28674-7502-49ef-ee09-f60d874e24a5"
      },
      "source": [
        "learn.lr_find()"
      ],
      "execution_count": 0,
      "outputs": [
        {
          "output_type": "display_data",
          "data": {
            "text/html": [
              ""
            ],
            "text/plain": [
              "<IPython.core.display.HTML object>"
            ]
          },
          "metadata": {
            "tags": []
          }
        },
        {
          "output_type": "stream",
          "text": [
            "LR Finder is complete, type {learner_name}.recorder.plot() to see the graph.\n"
          ],
          "name": "stdout"
        }
      ]
    },
    {
      "cell_type": "code",
      "metadata": {
        "id": "AjCFArAO5-MZ",
        "colab_type": "code",
        "colab": {},
        "outputId": "f2999b58-be2f-4b43-84e8-50eae85591fd"
      },
      "source": [
        "learn.recorder.plot(skip_end=15)"
      ],
      "execution_count": 0,
      "outputs": [
        {
          "output_type": "display_data",
          "data": {
            "image/png": "[encoded data removed]",
            "text/plain": [
              "<Figure size 432x288 with 1 Axes>"
            ]
          },
          "metadata": {
            "tags": [],
            "needs_background": "light"
          }
        }
      ]
    },
    {
      "cell_type": "code",
      "metadata": {
        "id": "IQSIIlwE5-Mh",
        "colab_type": "code",
        "colab": {},
        "outputId": "9b498f83-8af0-429f-ec3d-d7f8fe3bc4c2"
      },
      "source": [
        "learn.fit_one_cycle(1, 1e-2, moms=(0.8,0.7))"
      ],
      "execution_count": 0,
      "outputs": [
        {
          "output_type": "display_data",
          "data": {
            "text/html": [
              "Total time: 16:47 <p><table style='width:300px; margin-bottom:10px'>\n",
              "  <tr>\n",
              "    <th>epoch</th>\n",
              "    <th>train_loss</th>\n",
              "    <th>valid_loss</th>\n",
              "    <th>accuracy</th>\n",
              "  </tr>\n",
              "  <tr>\n",
              "    <th>1</th>\n",
              "    <th>4.232034</th>\n",
              "    <th>4.060273</th>\n",
              "    <th>0.292894</th>\n",
              "  </tr>\n",
              "</table>\n"
            ],
            "text/plain": [
              "<IPython.core.display.HTML object>"
            ]
          },
          "metadata": {
            "tags": []
          }
        }
      ]
    },
    {
      "cell_type": "code",
      "metadata": {
        "id": "jU57onzL5-Mp",
        "colab_type": "code",
        "colab": {}
      },
      "source": [
        "learn.save('fit_head')"
      ],
      "execution_count": 0,
      "outputs": []
    },
    {
      "cell_type": "code",
      "metadata": {
        "id": "1-gtFp_85-Mx",
        "colab_type": "code",
        "colab": {}
      },
      "source": [
        "learn.load('fit_head');"
      ],
      "execution_count": 0,
      "outputs": []
    },
    {
      "cell_type": "markdown",
      "metadata": {
        "id": "bj7LupU95-M3",
        "colab_type": "text"
      },
      "source": [
        "To complete the fine-tuning, we can then unfeeze and launch a new training."
      ]
    },
    {
      "cell_type": "code",
      "metadata": {
        "id": "ne_M4Nn45-M5",
        "colab_type": "code",
        "colab": {}
      },
      "source": [
        "learn.unfreeze()"
      ],
      "execution_count": 0,
      "outputs": []
    },
    {
      "cell_type": "code",
      "metadata": {
        "id": "isAxguYe5-NA",
        "colab_type": "code",
        "colab": {
          "base_uri": "https://localhost:8080/",
          "height": 175
        },
        "outputId": "dfe3fc58-06ae-4a1c-891a-b6ce9dd21386"
      },
      "source": [
        "learn.fit_one_cycle(10, 1e-3, moms=(0.8,0.7))"
      ],
      "execution_count": 25,
      "outputs": [
        {
          "output_type": "display_data",
          "data": {
            "text/html": [
              "\n",
              "    <div>\n",
              "        <style>\n",
              "            /* Turns off some styling */\n",
              "            progress {\n",
              "                /* gets rid of default border in Firefox and Opera. */\n",
              "                border: none;\n",
              "                /* Needs to be in here for Safari polyfill so background images work as expected. */\n",
              "                background-size: auto;\n",
              "            }\n",
              "            .progress-bar-interrupted, .progress-bar-interrupted::-webkit-progress-bar {\n",
              "                background: #F44336;\n",
              "            }\n",
              "        </style>\n",
              "      <progress value='2' class='' max='10', style='width:300px; height:20px; vertical-align: middle;'></progress>\n",
              "      20.00% [2/10 52:51<3:31:25]\n",
              "    </div>\n",
              "    \n",
              "<table border=\"1\" class=\"dataframe\">\n",
              "  <thead>\n",
              "    <tr style=\"text-align: left;\">\n",
              "      <th>epoch</th>\n",
              "      <th>train_loss</th>\n",
              "      <th>valid_loss</th>\n",
              "      <th>accuracy</th>\n",
              "      <th>time</th>\n",
              "    </tr>\n",
              "  </thead>\n",
              "  <tbody>\n",
              "    <tr>\n",
              "      <td>0</td>\n",
              "      <td>4.551858</td>\n",
              "      <td>4.477535</td>\n",
              "      <td>0.274002</td>\n",
              "      <td>26:25</td>\n",
              "    </tr>\n",
              "    <tr>\n",
              "      <td>1</td>\n",
              "      <td>4.095477</td>\n",
              "      <td>4.038779</td>\n",
              "      <td>0.305895</td>\n",
              "      <td>26:26</td>\n",
              "    </tr>\n",
              "  </tbody>\n",
              "</table><p>\n",
              "\n",
              "    <div>\n",
              "        <style>\n",
              "            /* Turns off some styling */\n",
              "            progress {\n",
              "                /* gets rid of default border in Firefox and Opera. */\n",
              "                border: none;\n",
              "                /* Needs to be in here for Safari polyfill so background images work as expected. */\n",
              "                background-size: auto;\n",
              "            }\n",
              "            .progress-bar-interrupted, .progress-bar-interrupted::-webkit-progress-bar {\n",
              "                background: #F44336;\n",
              "            }\n",
              "        </style>\n",
              "      <progress value='3203' class='' max='8061', style='width:300px; height:20px; vertical-align: middle;'></progress>\n",
              "      39.73% [3203/8061 10:09<15:23 4.0402]\n",
              "    </div>\n",
              "    "
            ],
            "text/plain": [
              "<IPython.core.display.HTML object>"
            ]
          },
          "metadata": {
            "tags": []
          }
        },
        {
          "output_type": "stream",
          "text": [
            "Buffered data was truncated after reaching the output size limit."
          ],
          "name": "stdout"
        }
      ]
    },
    {
      "cell_type": "code",
      "metadata": {
        "id": "lT1YRryX5-NH",
        "colab_type": "code",
        "colab": {}
      },
      "source": [
        "learn.save('fine_tuned')"
      ],
      "execution_count": 0,
      "outputs": []
    },
    {
      "cell_type": "code",
      "metadata": {
        "id": "tls7NwUtTBl2",
        "colab_type": "code",
        "colab": {}
      },
      "source": [
        "!cp /content/data/imdb/models/fine_tuned.pth /content/drive/My\\ Drive/imdb_language_model/"
      ],
      "execution_count": 0,
      "outputs": []
    },
    {
      "cell_type": "markdown",
      "metadata": {
        "id": "P1PaG3lk5-NN",
        "colab_type": "text"
      },
      "source": [
        "How good is our model? Well let's try to see what it predicts after a few given words."
      ]
    },
    {
      "cell_type": "code",
      "metadata": {
        "id": "B5wluGpg5-NP",
        "colab_type": "code",
        "colab": {}
      },
      "source": [
        "learn.load('fine_tuned');"
      ],
      "execution_count": 0,
      "outputs": []
    },
    {
      "cell_type": "code",
      "metadata": {
        "id": "bemPwloi5-NW",
        "colab_type": "code",
        "colab": {}
      },
      "source": [
        "TEXT = \"I liked this movie because\"\n",
        "N_WORDS = 40\n",
        "N_SENTENCES = 2"
      ],
      "execution_count": 0,
      "outputs": []
    },
    {
      "cell_type": "code",
      "metadata": {
        "id": "XVuj6XcV5-Nc",
        "colab_type": "code",
        "colab": {
          "base_uri": "https://localhost:8080/",
          "height": 72
        },
        "outputId": "4cbfcd10-a20e-4fcf-f7e9-28cd8a80f812"
      },
      "source": [
        "print(\"\\n\".join(learn.predict(TEXT, N_WORDS, temperature=0.75) for _ in range(N_SENTENCES)))"
      ],
      "execution_count": 30,
      "outputs": [
        {
          "output_type": "stream",
          "text": [
            "I liked this movie because of its brilliance . It was a great movie , and something i saw do a lot better than i did . In fact , i would n't have to say anything about the movie , but it\n",
            "I liked this movie because it was very moving , and i thought it was a great movie . The reality is that it 's a great movie . The story is about a young woman who has married a lot of his\n"
          ],
          "name": "stdout"
        }
      ]
    },
    {
      "cell_type": "markdown",
      "metadata": {
        "id": "0qElrnPy5-Nh",
        "colab_type": "text"
      },
      "source": [
        "We have to save not only the model, but also its encoder, the part that's responsible for creating and updating the hidden state. For the next part, we don't care about the part that tries to guess the next word."
      ]
    },
    {
      "cell_type": "code",
      "metadata": {
        "id": "nJELuzk25-Nj",
        "colab_type": "code",
        "colab": {}
      },
      "source": [
        "learn.save_encoder('fine_tuned_enc')"
      ],
      "execution_count": 0,
      "outputs": []
    },
    {
      "cell_type": "markdown",
      "metadata": {
        "id": "vmAymHaW5-Np",
        "colab_type": "text"
      },
      "source": [
        "## Classifier"
      ]
    },
    {
      "cell_type": "markdown",
      "metadata": {
        "id": "RFAKUIe-5-Nr",
        "colab_type": "text"
      },
      "source": [
        "Now, we'll create a new data object that only grabs the labelled data and keeps those labels. Again, this line takes a bit of time."
      ]
    },
    {
      "cell_type": "code",
      "metadata": {
        "id": "MIb2ywZI5-Nv",
        "colab_type": "code",
        "colab": {}
      },
      "source": [
        "path = untar_data(URLs.IMDB)"
      ],
      "execution_count": 0,
      "outputs": []
    },
    {
      "cell_type": "code",
      "metadata": {
        "id": "xxzn7ac85-N1",
        "colab_type": "code",
        "colab": {
          "base_uri": "https://localhost:8080/",
          "height": 17
        },
        "outputId": "de52e405-45db-4022-d540-7acb3ce2fd41"
      },
      "source": [
        "data_clas = (TextList.from_folder(path, vocab=data_lm.vocab)\n",
        "             #grab all the text files in path\n",
        "             .split_by_folder(valid='test')\n",
        "             #split by train and valid folder (that only keeps 'train' and 'test' so no need to filter)\n",
        "             .label_from_folder(classes=['neg', 'pos'])\n",
        "             #label them all with their folders\n",
        "             .databunch(bs=bs))\n",
        "\n",
        "data_clas.save('data_clas.pkl')"
      ],
      "execution_count": 33,
      "outputs": [
        {
          "output_type": "display_data",
          "data": {
            "text/html": [
              ""
            ],
            "text/plain": [
              "<IPython.core.display.HTML object>"
            ]
          },
          "metadata": {
            "tags": []
          }
        },
        {
          "output_type": "display_data",
          "data": {
            "text/html": [
              ""
            ],
            "text/plain": [
              "<IPython.core.display.HTML object>"
            ]
          },
          "metadata": {
            "tags": []
          }
        }
      ]
    },
    {
      "cell_type": "code",
      "metadata": {
        "id": "4PD9GfTR5-N6",
        "colab_type": "code",
        "colab": {}
      },
      "source": [
        "data_clas = load_data(path, 'data_clas.pkl', bs=bs)"
      ],
      "execution_count": 0,
      "outputs": []
    },
    {
      "cell_type": "code",
      "metadata": {
        "id": "P-PSe9e85-OF",
        "colab_type": "code",
        "colab": {
          "base_uri": "https://localhost:8080/",
          "height": 415
        },
        "outputId": "4e88b6bf-8cae-4769-c769-b98813e05291"
      },
      "source": [
        "data_clas.show_batch()"
      ],
      "execution_count": 35,
      "outputs": [
        {
          "output_type": "display_data",
          "data": {
            "text/html": [
              "<table border=\"1\" class=\"dataframe\">\n",
              "  <thead>\n",
              "    <tr style=\"text-align: right;\">\n",
              "      <th>text</th>\n",
              "      <th>target</th>\n",
              "    </tr>\n",
              "  </thead>\n",
              "  <tbody>\n",
              "    <tr>\n",
              "      <td>xxbos xxmaj match 1 : xxmaj tag xxmaj team xxmaj table xxmaj match xxmaj bubba xxmaj ray and xxmaj spike xxmaj dudley vs xxmaj eddie xxmaj guerrero and xxmaj chris xxmaj benoit xxmaj bubba xxmaj ray and xxmaj spike xxmaj dudley started things off with a xxmaj tag xxmaj team xxmaj table xxmaj match against xxmaj eddie xxmaj guerrero and xxmaj chris xxmaj benoit . xxmaj according to the rules</td>\n",
              "      <td>pos</td>\n",
              "    </tr>\n",
              "    <tr>\n",
              "      <td>xxbos * ! ! - xxup spoilers - ! ! * \\n \\n  xxmaj before i begin this , let me say that i have had both the advantages of seeing this movie on the big screen and of having seen the \" xxmaj authorized xxmaj version \" of this movie , remade by xxmaj stephen xxmaj king , himself , in 1997 . \\n \\n  xxmaj both</td>\n",
              "      <td>pos</td>\n",
              "    </tr>\n",
              "    <tr>\n",
              "      <td>xxbos xxmaj some have praised xxunk xxmaj lost xxmaj xxunk as a xxmaj disney adventure for adults . i do n't think so -- at least not for thinking adults . \\n \\n  xxmaj this script suggests a beginning as a live - action movie , that struck someone as the type of crap you can not sell to adults anymore . xxmaj the \" crack staff \" of</td>\n",
              "      <td>neg</td>\n",
              "    </tr>\n",
              "    <tr>\n",
              "      <td>xxbos xxmaj polish film maker xxmaj walerian xxmaj borowczyk 's xxmaj la xxmaj bête ( xxmaj french , 1975 , aka xxmaj the xxmaj beast ) is among the most controversial and brave films ever made and a very excellent one too . xxmaj this film tells everything that 's generally been hidden and denied about our nature and our sexual nature in particular with the symbolism and silence of</td>\n",
              "      <td>pos</td>\n",
              "    </tr>\n",
              "    <tr>\n",
              "      <td>xxbos xxmaj in xxup nyc , seaman xxmaj michael o'hara ( xxmaj orson xxmaj welles ) rescues xxmaj elsa xxmaj bannister ( xxmaj rita xxmaj hayworth ) from a mugging &amp; rape as she takes a horse &amp; carriage through xxmaj central xxmaj park -and lives to regret it . xxmaj xxunk - haired xxmaj hayworth 's a platinum blonde in this one ; as dazzling as fresh - fallen</td>\n",
              "      <td>pos</td>\n",
              "    </tr>\n",
              "  </tbody>\n",
              "</table>"
            ],
            "text/plain": [
              "<IPython.core.display.HTML object>"
            ]
          },
          "metadata": {
            "tags": []
          }
        }
      ]
    },
    {
      "cell_type": "markdown",
      "metadata": {
        "id": "AfslZCti5-OP",
        "colab_type": "text"
      },
      "source": [
        "We can then create a model to classify those reviews and load the encoder we saved before."
      ]
    },
    {
      "cell_type": "code",
      "metadata": {
        "id": "G4l9nWHl5-OR",
        "colab_type": "code",
        "colab": {
          "base_uri": "https://localhost:8080/",
          "height": 1000
        },
        "outputId": "d392cd78-0dcf-46f8-b0b6-bdffd7afc0fc"
      },
      "source": [
        "learn = text_classifier_learner(data_clas, AWD_LSTM, drop_mult=0.5)\n",
        "learn.load_encoder('fine_tuned_enc')"
      ],
      "execution_count": 36,
      "outputs": [
        {
          "output_type": "execute_result",
          "data": {
            "text/plain": [
              "RNNLearner(data=TextClasDataBunch;\n",
              "\n",
              "Train: LabelList (25000 items)\n",
              "x: TextList\n",
              "xxbos xxmaj do you guys wanna know a secret ? . xxmaj this movie sucks . xxmaj well actually i do n't know because if you allow yourself to be indulged by plagiarised versions of original movies , then perhaps you may find this movie astounding ( this movie being a plagiarised copy of i know what you did last summer ) . xxmaj the first 30 minutes of the movie is based on a typical story setting ; a bunch of so - called cool teenagers relishing their vacation in xxmaj florida and being themselves by behaving very much like the juveniles they are . xxmaj the only insight we get at this point is the extent to which the director succeeded in illustrating a pretentious sense of adolescent decadence within the characters . xxmaj the second half hour of the movie gains a little momentum and begins to illustrate a start to the no- where - near unprecedented killings . xxmaj the third half hour of the movie will most definitely remain a mystery to me because i switched it off before i could further delude myself into thinking that the movie may still have something interesting and original left to show . xxmaj as far as the story is concerned , it can easily be explained in a few lines . a bunch of teenagers go to xxmaj florida on vacation . xxmaj while they are busy partying , they slowly ( and i mean xxup slowly ) begin to get killed because they know some sort of silly secret . xxmaj the only thread to the killings is that all victims were xxunk of a common high school . xxmaj one thing that did however amaze me about this movie , was how much betty ( i m not sure about her name .. the blonde character ) looks like reese witherspoon . xxmaj another thing that amazed me about the movie was that it made me jump from my seat a few times . xxmaj does that make it a work of art ? absolutely not because my 12 year old niece made me drop a glass of orange juice because she \" xxunk \" me when i was just about to go through the guest room door .. whats the difference between the director and my 12 year old niece xxrep 4 ? \n",
              " \n",
              "  xxmaj do you wanna know a secret ? ? ? i 'm not sure about you guys , but i do n't ..,xxbos xxmaj this is a film that makes you say 2 things ... 1 ) i can do much better than this ( acting , writing and directing ) 2 ) this is so bad i must leave a review and warn others ... \n",
              " \n",
              "  xxmaj looks as if it was shot with my flip video . i have too believe my friend who told me to watch this has a vendetta against me . i have noticed that there are some positive posts for this home video ; xxmaj must have been left by crew members or people with something to do with this film . xxmaj one of the worst 3 movies i have ever seen . hopefully the writers and director leave the business . not even talented enough to do commercials xxrep 5 !,xxbos xxmaj this is complete and absolute garbage , a fine example of what a xxup bad movie is like , this ca n't be appealing to anyone , not even b - movie fans . xxmaj do not , i repeat , xxup do xxup not waste precious time of your life on this piece of trash . xxmaj bad acting , bad directing , horrible ( but i mean really horrible ) script , and complete lack of an idea as to what entertainment ( of any form ) is . i bought the xxup dvd for 3 dollars , i swear i could almost pay someone to take it . xxmaj burning it would not be enough for what this movie did to me . i like b - movies , the killer toys , the weird lagoon monsters , but this is nowhere near . xxmaj you know those movies that are so bad they are funny ? xxmaj not even . xxmaj just plain old pathetic .,xxbos xxmaj this movie was one of the worst i 've ever seen . xxmaj pure drivel . xxmaj how anyone could develop a connection with the heroine , or have empathy for her , is beyond me . i felt i was watching a case history of a schizoid individual with borderline personality disorder . xxmaj just terrible . \n",
              " \n",
              "  xxmaj in its most generous light , this can be seen as an attempt at producing and \" art \" film - except i could not , for the life of me , find any art in it at all . \n",
              " \n",
              "  xxmaj if this woman had lived in todays ' world , she would have been whisked off to a mental institution and given a couple of days treatment with anti - psychotic medications . xxmaj that , or simply allowed to roam the streets and become a bag woman . xxmaj why other characters in this movie found anything redeeming in her - and tried to aid her in her quest to become an actress - speaks more to their pathology than any convincing characteristics she had that made her worth that effort .,xxbos xxmaj it was one of those late night \" xxmaj it 's there \" i saw it things . xxmaj sometimes they are great . xxmaj this one was awful , but it really should n't have been . \n",
              " \n",
              "  xxmaj the movie had a really good cast . xxmaj how can you fail when you have xxmaj xxunk xxmaj heston and xxmaj jack xxmaj pallance ? xxmaj we 're talking xxmaj oscar winner turf here . xxmaj it had good special effects . xxmaj it even had some really good tits ! xxmaj and i mean nicely shown , full breast with full nipple and at one point even some beaver . xxmaj but it did n't compensate for the one missing ingredient - a story ! xxmaj the plot was ludicrous . i do n't mean the \" solar crisis \" sun exploding stuff , but that was bad enough . xxmaj it was the rest of the stuff - the oh so stupid and totally predictable evil corporation stuff . xxmaj man that just xxup stank ! xxmaj no amount of good acting or cool space ships or fight scenes could get around that one . \n",
              " \n",
              "  i have seen the same cast members be incredibly good . i have seen wonderful science fiction movies that had miniscule casts and budgets . xxmaj all the difference is in the writing .\n",
              "y: CategoryList\n",
              "neg,neg,neg,neg,neg\n",
              "Path: /content/data/imdb;\n",
              "\n",
              "Valid: LabelList (25000 items)\n",
              "x: TextList\n",
              "xxbos xxmaj no offense to anyone who saw this and liked it , but i hated it ! xxmaj it dragged on and on and there was not a very good plot , also , too simple and the acting was so so ... \n",
              " \n",
              "  i would give this snorefest a 2 at the most,xxbos xxmaj when you make a film with a killer - kids premise , there are two effective ways to approach it ; you can either make it as realistic as possible , creating believable characters and situations , or you can make it as fun as possible by playing it for laughs ( something which the makers of \" xxmaj silent xxmaj night , xxmaj deadly xxmaj night \" did , for example , on an equally controversial subject : a killer xxmaj santa ) . xxmaj the people who made \" xxmaj bloody xxmaj birthday \" , however , do neither of those things ; they simply rely on the shock value of the image of a kid with a gun ( or a knife , or a noose , or an arrow ) in his / her hand . xxmaj the result is both offensive and stupid . xxmaj the whole film looks like a bad idea that was rushed through production ( and then kept from release for several years ) . xxmaj it 's redeemed a tiny bit by good performances from the kids , but it 's xxup very sloppily made . ( * 1 / 2 ),xxbos xxmaj the worse film i have every seen . xxmaj like the other honest reviewers , it is just an excuse for getting naked birds with their xxunk out . xxmaj do n't get wrong , naked women is n't a bad thing but there is another film genre for that . \n",
              " \n",
              "  xxmaj boyfriends beware . i sold this to my girlfriend as a classic bike gang fest ( due to reviews ) to be greeted with every other scene full of naked women gyrating about the place . xxmaj slap in the chops for me . \n",
              " \n",
              "  xxmaj what makes me laugh the most is all the xxunk bike dives they went to in the film were full of models with the works cosmetically - what biker bars have these ? xxmaj they are usually slightly haggard with tattoos and far xxunk xxunk ! xxmaj completely unrealistic . xxmaj the acting is terrible , loads of pointless swearing and a complete waste of time storyline . \n",
              " \n",
              "  xxmaj did anyone check out xxmaj vinnie xxmaj jones 's attempt at an xxmaj american accent ? xxmaj its as embarrassing as his football skills . \n",
              " \n",
              "  xxmaj avoid like the plague . xxmaj the only reason you would watch this film is if you are a young lad who ca nt access xxunk and have nicked it from their parents movie collection for a few pervy kicks !,xxbos i 'm sure i saw xxup future xxup kill for the same reason as most people : the awesome poster by xxup hr xxmaj giger . xxmaj and like everyone else , i was disappointed to find that the movie could not live up to the poster ( xxmaj giger said that director xxmaj moore actually begged him to do it ) . xxmaj when i first saw this , at the age of 14 , i thought it was the worst movie ever made . i 'd still think that if i had n't seen certain movies on xxup mst3 k since then . \n",
              " \n",
              "  xxmaj the plot has a bunch of annoying college boys driving into the \" mutant city \" to kidnap a gang - leader for their fraternity . xxmaj that 's when they meet xxmaj splatter ( xxmaj ed xxmaj neal ) , a mutant / cyborg / psycho who kills the gang leader and blames it on the frats as an excuse to hunt them down and seize power . xxmaj the rest of the movie consists mostly of chases . a hand - full of frats try to battle their way out of mutant city ( which i think is supposed to be xxup la , even though it was made in xxmaj texas ) . xxmaj there 's some pseudo - political stuff about the frat boys ' society being pro - nuclear weapons and the mutant - society being anti - nuke . xxmaj there 's talk of how xxmaj splatter became a freak due to radiation . xxmaj most people develop cancer from radiation , but splatter just shoots spikes and slaughters girls . xxmaj yeah , that makes tons of sense . xxmaj at one point , our heroes rescue a mutant girl from two pro - nuke police , and she shows them \" how the other half lives . \" xxmaj the other half , it turns out , are all punk kids who dance around to a bad 80s pop - band . xxmaj so our little epic is both dumb and dated . xxmaj that 's really all there is to it . xxmaj frat boys running around in messed up buildings while guys who look like bikers try to kill them ... xxmaj oh , and it 's the future . \n",
              " \n",
              "  i do n't think you 'll have any doubt about why xxmaj ron xxup w. xxmaj moore never made another movie . xxmaj this thing is a real stinker . xxmaj if you like xxmaj giger , buy his books ( they have the poster without the horrors of the movie ) , or just watch xxup alien again . xxup future xxup kill is a waste of time that nobody needs . \n",
              " \n",
              "  xxmaj if this description makes the picture sound good , there 's another crappy movie that does the same thing , only bigger and better : xxup after xxup the xxup fall xxup of xxup new xxup york . xxmaj it 's crap , but it blows xxup future xxup kill off the screen .,xxbos i was sitting at home and flipping channels when i ran across what potentially sounded like an interesting film . i like xxmaj destruction type movies and decided to watch it . i do n't know why but i ended up watching it the whole 2 hours . xxmaj we have seen this type of movie i do n't know how many times . \n",
              " \n",
              "  xxmaj back in 1998 - 2000 there were dozen of films that dealt with global destruction of some sort . xxmaj the best one on my list so far is xxmaj deep xxmaj impact which was more believable than this one . xxmaj here are my problems with this film : 1 ) cheap special effects , like something out of the old computer . 2 ) no background information or explanation on weather patterns . xxmaj if you are going to make a movie about weather , at least have some decency to entertain the viewer with technical details . 3 ) xxmaj how come only 2 or 3 people figure out that the storm is converging on xxmaj chicago ... no more experts left in the field ? 4 ) where are some interesting characters ? i truly do n't care for anyone except maybe the pregnant woman . i felt that there was no character development . 5 ) no thought provoking moment what so ever and factually incorrect theme . xxmaj and this is only the first part of the film . i bet the conclusion will show us few destruction scenes and a search and rescue operation just like it has been done many times before . xxmaj and judging by the special effects in the first part of the movie , i can only imagine what we are to expect . xxmaj of course , at the end , the main characters will survive and life will go on ... how original\n",
              "y: CategoryList\n",
              "neg,neg,neg,neg,neg\n",
              "Path: /content/data/imdb;\n",
              "\n",
              "Test: None, model=SequentialRNN(\n",
              "  (0): MultiBatchEncoder(\n",
              "    (module): AWD_LSTM(\n",
              "      (encoder): Embedding(60000, 400, padding_idx=1)\n",
              "      (encoder_dp): EmbeddingDropout(\n",
              "        (emb): Embedding(60000, 400, padding_idx=1)\n",
              "      )\n",
              "      (rnns): ModuleList(\n",
              "        (0): WeightDropout(\n",
              "          (module): LSTM(400, 1152, batch_first=True)\n",
              "        )\n",
              "        (1): WeightDropout(\n",
              "          (module): LSTM(1152, 1152, batch_first=True)\n",
              "        )\n",
              "        (2): WeightDropout(\n",
              "          (module): LSTM(1152, 400, batch_first=True)\n",
              "        )\n",
              "      )\n",
              "      (input_dp): RNNDropout()\n",
              "      (hidden_dps): ModuleList(\n",
              "        (0): RNNDropout()\n",
              "        (1): RNNDropout()\n",
              "        (2): RNNDropout()\n",
              "      )\n",
              "    )\n",
              "  )\n",
              "  (1): PoolingLinearClassifier(\n",
              "    (layers): Sequential(\n",
              "      (0): BatchNorm1d(1200, eps=1e-05, momentum=0.1, affine=True, track_running_stats=True)\n",
              "      (1): Dropout(p=0.2, inplace=False)\n",
              "      (2): Linear(in_features=1200, out_features=50, bias=True)\n",
              "      (3): ReLU(inplace=True)\n",
              "      (4): BatchNorm1d(50, eps=1e-05, momentum=0.1, affine=True, track_running_stats=True)\n",
              "      (5): Dropout(p=0.1, inplace=False)\n",
              "      (6): Linear(in_features=50, out_features=2, bias=True)\n",
              "    )\n",
              "  )\n",
              "), opt_func=functools.partial(<class 'torch.optim.adam.Adam'>, betas=(0.9, 0.99)), loss_func=FlattenedLoss of CrossEntropyLoss(), metrics=[<function accuracy at 0x7f5b38ae61e0>], true_wd=True, bn_wd=True, wd=0.01, train_bn=True, path=PosixPath('/content/data/imdb'), model_dir='models', callback_fns=[functools.partial(<class 'fastai.basic_train.Recorder'>, add_time=True, silent=False)], callbacks=[RNNTrainer\n",
              "learn: RNNLearner(data=TextClasDataBunch;\n",
              "\n",
              "Train: LabelList (25000 items)\n",
              "x: TextList\n",
              "xxbos xxmaj do you guys wanna know a secret ? . xxmaj this movie sucks . xxmaj well actually i do n't know because if you allow yourself to be indulged by plagiarised versions of original movies , then perhaps you may find this movie astounding ( this movie being a plagiarised copy of i know what you did last summer ) . xxmaj the first 30 minutes of the movie is based on a typical story setting ; a bunch of so - called cool teenagers relishing their vacation in xxmaj florida and being themselves by behaving very much like the juveniles they are . xxmaj the only insight we get at this point is the extent to which the director succeeded in illustrating a pretentious sense of adolescent decadence within the characters . xxmaj the second half hour of the movie gains a little momentum and begins to illustrate a start to the no- where - near unprecedented killings . xxmaj the third half hour of the movie will most definitely remain a mystery to me because i switched it off before i could further delude myself into thinking that the movie may still have something interesting and original left to show . xxmaj as far as the story is concerned , it can easily be explained in a few lines . a bunch of teenagers go to xxmaj florida on vacation . xxmaj while they are busy partying , they slowly ( and i mean xxup slowly ) begin to get killed because they know some sort of silly secret . xxmaj the only thread to the killings is that all victims were xxunk of a common high school . xxmaj one thing that did however amaze me about this movie , was how much betty ( i m not sure about her name .. the blonde character ) looks like reese witherspoon . xxmaj another thing that amazed me about the movie was that it made me jump from my seat a few times . xxmaj does that make it a work of art ? absolutely not because my 12 year old niece made me drop a glass of orange juice because she \" xxunk \" me when i was just about to go through the guest room door .. whats the difference between the director and my 12 year old niece xxrep 4 ? \n",
              " \n",
              "  xxmaj do you wanna know a secret ? ? ? i 'm not sure about you guys , but i do n't ..,xxbos xxmaj this is a film that makes you say 2 things ... 1 ) i can do much better than this ( acting , writing and directing ) 2 ) this is so bad i must leave a review and warn others ... \n",
              " \n",
              "  xxmaj looks as if it was shot with my flip video . i have too believe my friend who told me to watch this has a vendetta against me . i have noticed that there are some positive posts for this home video ; xxmaj must have been left by crew members or people with something to do with this film . xxmaj one of the worst 3 movies i have ever seen . hopefully the writers and director leave the business . not even talented enough to do commercials xxrep 5 !,xxbos xxmaj this is complete and absolute garbage , a fine example of what a xxup bad movie is like , this ca n't be appealing to anyone , not even b - movie fans . xxmaj do not , i repeat , xxup do xxup not waste precious time of your life on this piece of trash . xxmaj bad acting , bad directing , horrible ( but i mean really horrible ) script , and complete lack of an idea as to what entertainment ( of any form ) is . i bought the xxup dvd for 3 dollars , i swear i could almost pay someone to take it . xxmaj burning it would not be enough for what this movie did to me . i like b - movies , the killer toys , the weird lagoon monsters , but this is nowhere near . xxmaj you know those movies that are so bad they are funny ? xxmaj not even . xxmaj just plain old pathetic .,xxbos xxmaj this movie was one of the worst i 've ever seen . xxmaj pure drivel . xxmaj how anyone could develop a connection with the heroine , or have empathy for her , is beyond me . i felt i was watching a case history of a schizoid individual with borderline personality disorder . xxmaj just terrible . \n",
              " \n",
              "  xxmaj in its most generous light , this can be seen as an attempt at producing and \" art \" film - except i could not , for the life of me , find any art in it at all . \n",
              " \n",
              "  xxmaj if this woman had lived in todays ' world , she would have been whisked off to a mental institution and given a couple of days treatment with anti - psychotic medications . xxmaj that , or simply allowed to roam the streets and become a bag woman . xxmaj why other characters in this movie found anything redeeming in her - and tried to aid her in her quest to become an actress - speaks more to their pathology than any convincing characteristics she had that made her worth that effort .,xxbos xxmaj it was one of those late night \" xxmaj it 's there \" i saw it things . xxmaj sometimes they are great . xxmaj this one was awful , but it really should n't have been . \n",
              " \n",
              "  xxmaj the movie had a really good cast . xxmaj how can you fail when you have xxmaj xxunk xxmaj heston and xxmaj jack xxmaj pallance ? xxmaj we 're talking xxmaj oscar winner turf here . xxmaj it had good special effects . xxmaj it even had some really good tits ! xxmaj and i mean nicely shown , full breast with full nipple and at one point even some beaver . xxmaj but it did n't compensate for the one missing ingredient - a story ! xxmaj the plot was ludicrous . i do n't mean the \" solar crisis \" sun exploding stuff , but that was bad enough . xxmaj it was the rest of the stuff - the oh so stupid and totally predictable evil corporation stuff . xxmaj man that just xxup stank ! xxmaj no amount of good acting or cool space ships or fight scenes could get around that one . \n",
              " \n",
              "  i have seen the same cast members be incredibly good . i have seen wonderful science fiction movies that had miniscule casts and budgets . xxmaj all the difference is in the writing .\n",
              "y: CategoryList\n",
              "neg,neg,neg,neg,neg\n",
              "Path: /content/data/imdb;\n",
              "\n",
              "Valid: LabelList (25000 items)\n",
              "x: TextList\n",
              "xxbos xxmaj no offense to anyone who saw this and liked it , but i hated it ! xxmaj it dragged on and on and there was not a very good plot , also , too simple and the acting was so so ... \n",
              " \n",
              "  i would give this snorefest a 2 at the most,xxbos xxmaj when you make a film with a killer - kids premise , there are two effective ways to approach it ; you can either make it as realistic as possible , creating believable characters and situations , or you can make it as fun as possible by playing it for laughs ( something which the makers of \" xxmaj silent xxmaj night , xxmaj deadly xxmaj night \" did , for example , on an equally controversial subject : a killer xxmaj santa ) . xxmaj the people who made \" xxmaj bloody xxmaj birthday \" , however , do neither of those things ; they simply rely on the shock value of the image of a kid with a gun ( or a knife , or a noose , or an arrow ) in his / her hand . xxmaj the result is both offensive and stupid . xxmaj the whole film looks like a bad idea that was rushed through production ( and then kept from release for several years ) . xxmaj it 's redeemed a tiny bit by good performances from the kids , but it 's xxup very sloppily made . ( * 1 / 2 ),xxbos xxmaj the worse film i have every seen . xxmaj like the other honest reviewers , it is just an excuse for getting naked birds with their xxunk out . xxmaj do n't get wrong , naked women is n't a bad thing but there is another film genre for that . \n",
              " \n",
              "  xxmaj boyfriends beware . i sold this to my girlfriend as a classic bike gang fest ( due to reviews ) to be greeted with every other scene full of naked women gyrating about the place . xxmaj slap in the chops for me . \n",
              " \n",
              "  xxmaj what makes me laugh the most is all the xxunk bike dives they went to in the film were full of models with the works cosmetically - what biker bars have these ? xxmaj they are usually slightly haggard with tattoos and far xxunk xxunk ! xxmaj completely unrealistic . xxmaj the acting is terrible , loads of pointless swearing and a complete waste of time storyline . \n",
              " \n",
              "  xxmaj did anyone check out xxmaj vinnie xxmaj jones 's attempt at an xxmaj american accent ? xxmaj its as embarrassing as his football skills . \n",
              " \n",
              "  xxmaj avoid like the plague . xxmaj the only reason you would watch this film is if you are a young lad who ca nt access xxunk and have nicked it from their parents movie collection for a few pervy kicks !,xxbos i 'm sure i saw xxup future xxup kill for the same reason as most people : the awesome poster by xxup hr xxmaj giger . xxmaj and like everyone else , i was disappointed to find that the movie could not live up to the poster ( xxmaj giger said that director xxmaj moore actually begged him to do it ) . xxmaj when i first saw this , at the age of 14 , i thought it was the worst movie ever made . i 'd still think that if i had n't seen certain movies on xxup mst3 k since then . \n",
              " \n",
              "  xxmaj the plot has a bunch of annoying college boys driving into the \" mutant city \" to kidnap a gang - leader for their fraternity . xxmaj that 's when they meet xxmaj splatter ( xxmaj ed xxmaj neal ) , a mutant / cyborg / psycho who kills the gang leader and blames it on the frats as an excuse to hunt them down and seize power . xxmaj the rest of the movie consists mostly of chases . a hand - full of frats try to battle their way out of mutant city ( which i think is supposed to be xxup la , even though it was made in xxmaj texas ) . xxmaj there 's some pseudo - political stuff about the frat boys ' society being pro - nuclear weapons and the mutant - society being anti - nuke . xxmaj there 's talk of how xxmaj splatter became a freak due to radiation . xxmaj most people develop cancer from radiation , but splatter just shoots spikes and slaughters girls . xxmaj yeah , that makes tons of sense . xxmaj at one point , our heroes rescue a mutant girl from two pro - nuke police , and she shows them \" how the other half lives . \" xxmaj the other half , it turns out , are all punk kids who dance around to a bad 80s pop - band . xxmaj so our little epic is both dumb and dated . xxmaj that 's really all there is to it . xxmaj frat boys running around in messed up buildings while guys who look like bikers try to kill them ... xxmaj oh , and it 's the future . \n",
              " \n",
              "  i do n't think you 'll have any doubt about why xxmaj ron xxup w. xxmaj moore never made another movie . xxmaj this thing is a real stinker . xxmaj if you like xxmaj giger , buy his books ( they have the poster without the horrors of the movie ) , or just watch xxup alien again . xxup future xxup kill is a waste of time that nobody needs . \n",
              " \n",
              "  xxmaj if this description makes the picture sound good , there 's another crappy movie that does the same thing , only bigger and better : xxup after xxup the xxup fall xxup of xxup new xxup york . xxmaj it 's crap , but it blows xxup future xxup kill off the screen .,xxbos i was sitting at home and flipping channels when i ran across what potentially sounded like an interesting film . i like xxmaj destruction type movies and decided to watch it . i do n't know why but i ended up watching it the whole 2 hours . xxmaj we have seen this type of movie i do n't know how many times . \n",
              " \n",
              "  xxmaj back in 1998 - 2000 there were dozen of films that dealt with global destruction of some sort . xxmaj the best one on my list so far is xxmaj deep xxmaj impact which was more believable than this one . xxmaj here are my problems with this film : 1 ) cheap special effects , like something out of the old computer . 2 ) no background information or explanation on weather patterns . xxmaj if you are going to make a movie about weather , at least have some decency to entertain the viewer with technical details . 3 ) xxmaj how come only 2 or 3 people figure out that the storm is converging on xxmaj chicago ... no more experts left in the field ? 4 ) where are some interesting characters ? i truly do n't care for anyone except maybe the pregnant woman . i felt that there was no character development . 5 ) no thought provoking moment what so ever and factually incorrect theme . xxmaj and this is only the first part of the film . i bet the conclusion will show us few destruction scenes and a search and rescue operation just like it has been done many times before . xxmaj and judging by the special effects in the first part of the movie , i can only imagine what we are to expect . xxmaj of course , at the end , the main characters will survive and life will go on ... how original\n",
              "y: CategoryList\n",
              "neg,neg,neg,neg,neg\n",
              "Path: /content/data/imdb;\n",
              "\n",
              "Test: None, model=SequentialRNN(\n",
              "  (0): MultiBatchEncoder(\n",
              "    (module): AWD_LSTM(\n",
              "      (encoder): Embedding(60000, 400, padding_idx=1)\n",
              "      (encoder_dp): EmbeddingDropout(\n",
              "        (emb): Embedding(60000, 400, padding_idx=1)\n",
              "      )\n",
              "      (rnns): ModuleList(\n",
              "        (0): WeightDropout(\n",
              "          (module): LSTM(400, 1152, batch_first=True)\n",
              "        )\n",
              "        (1): WeightDropout(\n",
              "          (module): LSTM(1152, 1152, batch_first=True)\n",
              "        )\n",
              "        (2): WeightDropout(\n",
              "          (module): LSTM(1152, 400, batch_first=True)\n",
              "        )\n",
              "      )\n",
              "      (input_dp): RNNDropout()\n",
              "      (hidden_dps): ModuleList(\n",
              "        (0): RNNDropout()\n",
              "        (1): RNNDropout()\n",
              "        (2): RNNDropout()\n",
              "      )\n",
              "    )\n",
              "  )\n",
              "  (1): PoolingLinearClassifier(\n",
              "    (layers): Sequential(\n",
              "      (0): BatchNorm1d(1200, eps=1e-05, momentum=0.1, affine=True, track_running_stats=True)\n",
              "      (1): Dropout(p=0.2, inplace=False)\n",
              "      (2): Linear(in_features=1200, out_features=50, bias=True)\n",
              "      (3): ReLU(inplace=True)\n",
              "      (4): BatchNorm1d(50, eps=1e-05, momentum=0.1, affine=True, track_running_stats=True)\n",
              "      (5): Dropout(p=0.1, inplace=False)\n",
              "      (6): Linear(in_features=50, out_features=2, bias=True)\n",
              "    )\n",
              "  )\n",
              "), opt_func=functools.partial(<class 'torch.optim.adam.Adam'>, betas=(0.9, 0.99)), loss_func=FlattenedLoss of CrossEntropyLoss(), metrics=[<function accuracy at 0x7f5b38ae61e0>], true_wd=True, bn_wd=True, wd=0.01, train_bn=True, path=PosixPath('/content/data/imdb'), model_dir='models', callback_fns=[functools.partial(<class 'fastai.basic_train.Recorder'>, add_time=True, silent=False)], callbacks=[...], layer_groups=[Sequential(\n",
              "  (0): Embedding(60000, 400, padding_idx=1)\n",
              "  (1): EmbeddingDropout(\n",
              "    (emb): Embedding(60000, 400, padding_idx=1)\n",
              "  )\n",
              "), Sequential(\n",
              "  (0): WeightDropout(\n",
              "    (module): LSTM(400, 1152, batch_first=True)\n",
              "  )\n",
              "  (1): RNNDropout()\n",
              "), Sequential(\n",
              "  (0): WeightDropout(\n",
              "    (module): LSTM(1152, 1152, batch_first=True)\n",
              "  )\n",
              "  (1): RNNDropout()\n",
              "), Sequential(\n",
              "  (0): WeightDropout(\n",
              "    (module): LSTM(1152, 400, batch_first=True)\n",
              "  )\n",
              "  (1): RNNDropout()\n",
              "), Sequential(\n",
              "  (0): PoolingLinearClassifier(\n",
              "    (layers): Sequential(\n",
              "      (0): BatchNorm1d(1200, eps=1e-05, momentum=0.1, affine=True, track_running_stats=True)\n",
              "      (1): Dropout(p=0.2, inplace=False)\n",
              "      (2): Linear(in_features=1200, out_features=50, bias=True)\n",
              "      (3): ReLU(inplace=True)\n",
              "      (4): BatchNorm1d(50, eps=1e-05, momentum=0.1, affine=True, track_running_stats=True)\n",
              "      (5): Dropout(p=0.1, inplace=False)\n",
              "      (6): Linear(in_features=50, out_features=2, bias=True)\n",
              "    )\n",
              "  )\n",
              ")], add_time=True, silent=False)\n",
              "alpha: 2.0\n",
              "beta: 1.0], layer_groups=[Sequential(\n",
              "  (0): Embedding(60000, 400, padding_idx=1)\n",
              "  (1): EmbeddingDropout(\n",
              "    (emb): Embedding(60000, 400, padding_idx=1)\n",
              "  )\n",
              "), Sequential(\n",
              "  (0): WeightDropout(\n",
              "    (module): LSTM(400, 1152, batch_first=True)\n",
              "  )\n",
              "  (1): RNNDropout()\n",
              "), Sequential(\n",
              "  (0): WeightDropout(\n",
              "    (module): LSTM(1152, 1152, batch_first=True)\n",
              "  )\n",
              "  (1): RNNDropout()\n",
              "), Sequential(\n",
              "  (0): WeightDropout(\n",
              "    (module): LSTM(1152, 400, batch_first=True)\n",
              "  )\n",
              "  (1): RNNDropout()\n",
              "), Sequential(\n",
              "  (0): PoolingLinearClassifier(\n",
              "    (layers): Sequential(\n",
              "      (0): BatchNorm1d(1200, eps=1e-05, momentum=0.1, affine=True, track_running_stats=True)\n",
              "      (1): Dropout(p=0.2, inplace=False)\n",
              "      (2): Linear(in_features=1200, out_features=50, bias=True)\n",
              "      (3): ReLU(inplace=True)\n",
              "      (4): BatchNorm1d(50, eps=1e-05, momentum=0.1, affine=True, track_running_stats=True)\n",
              "      (5): Dropout(p=0.1, inplace=False)\n",
              "      (6): Linear(in_features=50, out_features=2, bias=True)\n",
              "    )\n",
              "  )\n",
              ")], add_time=True, silent=False)"
            ]
          },
          "metadata": {
            "tags": []
          },
          "execution_count": 36
        }
      ]
    },
    {
      "cell_type": "code",
      "metadata": {
        "id": "OxRY7KrX5-OW",
        "colab_type": "code",
        "colab": {
          "base_uri": "https://localhost:8080/",
          "height": 113
        },
        "outputId": "262aeab7-1c86-4d28-eee0-8a035e3a5a6f"
      },
      "source": [
        "learn.lr_find()"
      ],
      "execution_count": 37,
      "outputs": [
        {
          "output_type": "display_data",
          "data": {
            "text/html": [
              "\n",
              "    <div>\n",
              "        <style>\n",
              "            /* Turns off some styling */\n",
              "            progress {\n",
              "                /* gets rid of default border in Firefox and Opera. */\n",
              "                border: none;\n",
              "                /* Needs to be in here for Safari polyfill so background images work as expected. */\n",
              "                background-size: auto;\n",
              "            }\n",
              "            .progress-bar-interrupted, .progress-bar-interrupted::-webkit-progress-bar {\n",
              "                background: #F44336;\n",
              "            }\n",
              "        </style>\n",
              "      <progress value='0' class='' max='1', style='width:300px; height:20px; vertical-align: middle;'></progress>\n",
              "      0.00% [0/1 00:00<00:00]\n",
              "    </div>\n",
              "    \n",
              "<table border=\"1\" class=\"dataframe\">\n",
              "  <thead>\n",
              "    <tr style=\"text-align: left;\">\n",
              "      <th>epoch</th>\n",
              "      <th>train_loss</th>\n",
              "      <th>valid_loss</th>\n",
              "      <th>accuracy</th>\n",
              "      <th>time</th>\n",
              "    </tr>\n",
              "  </thead>\n",
              "  <tbody>\n",
              "  </tbody>\n",
              "</table><p>\n",
              "\n",
              "    <div>\n",
              "        <style>\n",
              "            /* Turns off some styling */\n",
              "            progress {\n",
              "                /* gets rid of default border in Firefox and Opera. */\n",
              "                border: none;\n",
              "                /* Needs to be in here for Safari polyfill so background images work as expected. */\n",
              "                background-size: auto;\n",
              "            }\n",
              "            .progress-bar-interrupted, .progress-bar-interrupted::-webkit-progress-bar {\n",
              "                background: #F44336;\n",
              "            }\n",
              "        </style>\n",
              "      <progress value='93' class='' max='520', style='width:300px; height:20px; vertical-align: middle;'></progress>\n",
              "      17.88% [93/520 00:47<03:38 0.8684]\n",
              "    </div>\n",
              "    "
            ],
            "text/plain": [
              "<IPython.core.display.HTML object>"
            ]
          },
          "metadata": {
            "tags": []
          }
        },
        {
          "output_type": "stream",
          "text": [
            "LR Finder is complete, type {learner_name}.recorder.plot() to see the graph.\n"
          ],
          "name": "stdout"
        }
      ]
    },
    {
      "cell_type": "code",
      "metadata": {
        "id": "QYl4kZTF5-Oc",
        "colab_type": "code",
        "colab": {
          "base_uri": "https://localhost:8080/",
          "height": 280
        },
        "outputId": "e5c51039-6c59-4677-c0a4-f8735185320d"
      },
      "source": [
        "learn.recorder.plot()"
      ],
      "execution_count": 38,
      "outputs": [
        {
          "output_type": "display_data",
          "data": {
            "image/png": "[encoded data removed]",
            "text/plain": [
              "<Figure size 432x288 with 1 Axes>"
            ]
          },
          "metadata": {
            "tags": []
          }
        }
      ]
    },
    {
      "cell_type": "code",
      "metadata": {
        "id": "F6WWca1V5-Oj",
        "colab_type": "code",
        "colab": {
          "base_uri": "https://localhost:8080/",
          "height": 81
        },
        "outputId": "549726f6-44f3-456b-b0c6-d742d0fd553a"
      },
      "source": [
        "learn.fit_one_cycle(1, 2e-2, moms=(0.8,0.7))"
      ],
      "execution_count": 39,
      "outputs": [
        {
          "output_type": "display_data",
          "data": {
            "text/html": [
              "<table border=\"1\" class=\"dataframe\">\n",
              "  <thead>\n",
              "    <tr style=\"text-align: left;\">\n",
              "      <th>epoch</th>\n",
              "      <th>train_loss</th>\n",
              "      <th>valid_loss</th>\n",
              "      <th>accuracy</th>\n",
              "      <th>time</th>\n",
              "    </tr>\n",
              "  </thead>\n",
              "  <tbody>\n",
              "    <tr>\n",
              "      <td>0</td>\n",
              "      <td>0.324651</td>\n",
              "      <td>0.265490</td>\n",
              "      <td>0.887840</td>\n",
              "      <td>06:25</td>\n",
              "    </tr>\n",
              "  </tbody>\n",
              "</table>"
            ],
            "text/plain": [
              "<IPython.core.display.HTML object>"
            ]
          },
          "metadata": {
            "tags": []
          }
        }
      ]
    },
    {
      "cell_type": "code",
      "metadata": {
        "id": "PPqgoBMk5-Op",
        "colab_type": "code",
        "colab": {}
      },
      "source": [
        "learn.save('first')"
      ],
      "execution_count": 0,
      "outputs": []
    },
    {
      "cell_type": "code",
      "metadata": {
        "id": "TII5F01fZdi5",
        "colab_type": "code",
        "colab": {}
      },
      "source": [
        "!cp  data/imdb/models/first.pth /content/drive/My\\ Drive/imdb_language_model/"
      ],
      "execution_count": 0,
      "outputs": []
    },
    {
      "cell_type": "code",
      "metadata": {
        "id": "3gTQSGoY5-PF",
        "colab_type": "code",
        "colab": {}
      },
      "source": [
        "learn.load('first');"
      ],
      "execution_count": 0,
      "outputs": []
    },
    {
      "cell_type": "code",
      "metadata": {
        "id": "l_B2Qkek5-PL",
        "colab_type": "code",
        "colab": {
          "base_uri": "https://localhost:8080/",
          "height": 81
        },
        "outputId": "7fb27a40-eb07-4f6c-ede9-fcd6a200d276"
      },
      "source": [
        "learn.freeze_to(-2)\n",
        "learn.fit_one_cycle(1, slice(1e-2/(2.6**4),1e-2), moms=(0.8,0.7))"
      ],
      "execution_count": 43,
      "outputs": [
        {
          "output_type": "display_data",
          "data": {
            "text/html": [
              "<table border=\"1\" class=\"dataframe\">\n",
              "  <thead>\n",
              "    <tr style=\"text-align: left;\">\n",
              "      <th>epoch</th>\n",
              "      <th>train_loss</th>\n",
              "      <th>valid_loss</th>\n",
              "      <th>accuracy</th>\n",
              "      <th>time</th>\n",
              "    </tr>\n",
              "  </thead>\n",
              "  <tbody>\n",
              "    <tr>\n",
              "      <td>0</td>\n",
              "      <td>0.274550</td>\n",
              "      <td>0.224007</td>\n",
              "      <td>0.911800</td>\n",
              "      <td>05:33</td>\n",
              "    </tr>\n",
              "  </tbody>\n",
              "</table>"
            ],
            "text/plain": [
              "<IPython.core.display.HTML object>"
            ]
          },
          "metadata": {
            "tags": []
          }
        }
      ]
    },
    {
      "cell_type": "code",
      "metadata": {
        "id": "hfF9idCW5-PS",
        "colab_type": "code",
        "colab": {}
      },
      "source": [
        "learn.save('second')"
      ],
      "execution_count": 0,
      "outputs": []
    },
    {
      "cell_type": "code",
      "metadata": {
        "id": "L_Pby-rD5-PW",
        "colab_type": "code",
        "colab": {}
      },
      "source": [
        "learn.load('second');"
      ],
      "execution_count": 0,
      "outputs": []
    },
    {
      "cell_type": "code",
      "metadata": {
        "id": "ppD-c3Cg5-Pb",
        "colab_type": "code",
        "colab": {
          "base_uri": "https://localhost:8080/",
          "height": 81
        },
        "outputId": "56d19937-5148-488b-e9c2-4b7d6ec30827"
      },
      "source": [
        "learn.freeze_to(-3)\n",
        "learn.fit_one_cycle(1, slice(5e-3/(2.6**4),5e-3), moms=(0.8,0.7))"
      ],
      "execution_count": 46,
      "outputs": [
        {
          "output_type": "display_data",
          "data": {
            "text/html": [
              "<table border=\"1\" class=\"dataframe\">\n",
              "  <thead>\n",
              "    <tr style=\"text-align: left;\">\n",
              "      <th>epoch</th>\n",
              "      <th>train_loss</th>\n",
              "      <th>valid_loss</th>\n",
              "      <th>accuracy</th>\n",
              "      <th>time</th>\n",
              "    </tr>\n",
              "  </thead>\n",
              "  <tbody>\n",
              "    <tr>\n",
              "      <td>0</td>\n",
              "      <td>0.246159</td>\n",
              "      <td>0.187647</td>\n",
              "      <td>0.926520</td>\n",
              "      <td>06:05</td>\n",
              "    </tr>\n",
              "  </tbody>\n",
              "</table>"
            ],
            "text/plain": [
              "<IPython.core.display.HTML object>"
            ]
          },
          "metadata": {
            "tags": []
          }
        }
      ]
    },
    {
      "cell_type": "code",
      "metadata": {
        "id": "fvoZYW3S5-Pi",
        "colab_type": "code",
        "colab": {}
      },
      "source": [
        "learn.save('third')"
      ],
      "execution_count": 0,
      "outputs": []
    },
    {
      "cell_type": "code",
      "metadata": {
        "id": "4CgXE-eCdjbM",
        "colab_type": "code",
        "colab": {}
      },
      "source": [
        "!cp data/imdb/models/third.pth /content/drive/My\\ Drive/imdb_language_model/\n"
      ],
      "execution_count": 0,
      "outputs": []
    },
    {
      "cell_type": "code",
      "metadata": {
        "id": "ghx0Y4u25-Pn",
        "colab_type": "code",
        "colab": {}
      },
      "source": [
        "learn.load('third');"
      ],
      "execution_count": 0,
      "outputs": []
    },
    {
      "cell_type": "code",
      "metadata": {
        "id": "DZeqhL_x5-Pz",
        "colab_type": "code",
        "colab": {
          "base_uri": "https://localhost:8080/",
          "height": 112
        },
        "outputId": "235a7568-ebe8-4d33-a6d6-48d096d853ae"
      },
      "source": [
        "learn.unfreeze()\n",
        "learn.fit_one_cycle(2, slice(1e-3/(2.6**4),1e-3), moms=(0.8,0.7))"
      ],
      "execution_count": 50,
      "outputs": [
        {
          "output_type": "display_data",
          "data": {
            "text/html": [
              "<table border=\"1\" class=\"dataframe\">\n",
              "  <thead>\n",
              "    <tr style=\"text-align: left;\">\n",
              "      <th>epoch</th>\n",
              "      <th>train_loss</th>\n",
              "      <th>valid_loss</th>\n",
              "      <th>accuracy</th>\n",
              "      <th>time</th>\n",
              "    </tr>\n",
              "  </thead>\n",
              "  <tbody>\n",
              "    <tr>\n",
              "      <td>0</td>\n",
              "      <td>0.204635</td>\n",
              "      <td>0.182090</td>\n",
              "      <td>0.928080</td>\n",
              "      <td>05:18</td>\n",
              "    </tr>\n",
              "    <tr>\n",
              "      <td>1</td>\n",
              "      <td>0.179253</td>\n",
              "      <td>0.181873</td>\n",
              "      <td>0.928520</td>\n",
              "      <td>05:56</td>\n",
              "    </tr>\n",
              "  </tbody>\n",
              "</table>"
            ],
            "text/plain": [
              "<IPython.core.display.HTML object>"
            ]
          },
          "metadata": {
            "tags": []
          }
        }
      ]
    },
    {
      "cell_type": "code",
      "metadata": {
        "id": "J1_cnFF95-P6",
        "colab_type": "code",
        "colab": {
          "base_uri": "https://localhost:8080/",
          "height": 34
        },
        "outputId": "ec859a00-660f-445c-b44c-b37ff7c32819"
      },
      "source": [
        "learn.predict(\"I really loved that movie, it was awesome!\")"
      ],
      "execution_count": 51,
      "outputs": [
        {
          "output_type": "execute_result",
          "data": {
            "text/plain": [
              "(Category pos, tensor(1), tensor([3.7894e-04, 9.9962e-01]))"
            ]
          },
          "metadata": {
            "tags": []
          },
          "execution_count": 51
        }
      ]
    }
  ]
}